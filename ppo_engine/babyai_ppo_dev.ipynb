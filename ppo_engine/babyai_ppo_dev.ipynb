{
 "cells": [
  {
   "cell_type": "code",
   "execution_count": null,
   "metadata": {},
   "outputs": [],
   "source": [
    "import warnings, os\n",
    "os.chdir(\"..\")\n",
    "warnings.filterwarnings(\"ignore\", category=FutureWarning)"
   ]
  },
  {
   "cell_type": "code",
   "execution_count": null,
   "metadata": {},
   "outputs": [],
   "source": [
    "import utils\n",
    "import gym, babyai_text\n",
    "\n",
    "import torch\n",
    "from transformers import AutoTokenizer\n",
    "from trl import PPOConfig, PPOTrainer, AutoModelForCausalLMWithValueHead, create_reference_model\n",
    "\n",
    "from pprint import pprint\n",
    "from tqdm.notebook import tqdm"
   ]
  },
  {
   "cell_type": "code",
   "execution_count": null,
   "metadata": {},
   "outputs": [],
   "source": [
    "device = torch.device(\"cuda\" if torch.cuda.is_available() else \"cpu\")\n",
    "config = PPOConfig(\n",
    "    model_name=\"HuggingFaceTB/SmolLM2-135M-Instruct\",\n",
    "    batch_size=16,\n",
    "    mini_batch_size=16,\n",
    "    optimize_cuda_cache=True,\n",
    ")"
   ]
  },
  {
   "cell_type": "code",
   "execution_count": null,
   "metadata": {},
   "outputs": [],
   "source": [
    "env = gym.make(\"BabyAI-MixedTrainLocal-v0\")\n",
    "model = AutoModelForCausalLMWithValueHead.from_pretrained(config.model_name)\n",
    "reference_model = create_reference_model(model, num_shared_layers=6) # TODO: choose an appropriate number of shared layers\n",
    "tokenizer = AutoTokenizer.from_pretrained(config.model_name)"
   ]
  },
  {
   "cell_type": "code",
   "execution_count": null,
   "metadata": {},
   "outputs": [],
   "source": [
    "trainer = PPOTrainer(\n",
    "    model=model,\n",
    "    ref_model=reference_model,\n",
    "    tokenizer=tokenizer,\n",
    "    config=config,\n",
    ")"
   ]
  },
  {
   "cell_type": "code",
   "execution_count": null,
   "metadata": {},
   "outputs": [],
   "source": [
    "generation_kwargs = {\n",
    "    \"max_new_tokens\": 20,\n",
    "    \"do_sample\": True,\n",
    "    \"top_k\": 50,\n",
    "    \"top_p\": 0.95,\n",
    "    \"temperature\": 0.8,\n",
    "    \"return_prompt\": False\n",
    "}"
   ]
  },
  {
   "cell_type": "code",
   "execution_count": null,
   "metadata": {},
   "outputs": [],
   "source": [
    "def sample_trajectory(\n",
    "    env,\n",
    "    trainer,\n",
    "    tokenizer,\n",
    "    generation_kwargs,\n",
    "    max_invalid_actions=8,\n",
    "    invalid_action_penalty=0.1,\n",
    "):\n",
    "    \"\"\"\n",
    "    Sample a trajectory from the environment using the current policy.\n",
    "    \n",
    "    Args:\n",
    "        env: The environment to sample from.\n",
    "        trainer: The PPO trainer containing the current policy model.\n",
    "        tokenizer: The tokenizer corresponding to the model.\n",
    "        generation_kwargs: The generation arguments for the model.\n",
    "        max_invalid_actions: The maximum number of invalid actions before truncating the episode.\n",
    "        invalid_action_penalty: The penalty for each invalid action.\n",
    "    \n",
    "    Returns:\n",
    "        trajectory: A list of dictionaries containing the observations, actions, and rewards.\n",
    "    \"\"\"\n",
    "    trajectory = []\n",
    "    messages = []\n",
    "\n",
    "    obs, info = env.reset()\n",
    "    done, truncated = False, False\n",
    "    mission = obs[\"mission\"]\n",
    "    text_obs = \"\\n\".join(info[\"descriptions\"])\n",
    "\n",
    "    system_prompt = utils.get_system_prompt()\n",
    "    system_prompt = system_prompt.replace(\"{goal}\", mission)\n",
    "\n",
    "    messages.append({\"role\": \"system\", \"content\": system_prompt})\n",
    "    messages.append({\"role\": \"user\", \"content\": text_obs})\n",
    "\n",
    "    invalid_actions_this_episode = 0\n",
    "    while not (done or truncated):\n",
    "        \n",
    "        old_text_obs = text_obs\n",
    "        inputs = tokenizer.apply_chat_template(messages, return_tensors=\"pt\").squeeze(0).to(device)\n",
    "        outputs = trainer.generate(inputs, **generation_kwargs)[0]\n",
    "\n",
    "        action_text = tokenizer.decode(outputs)\n",
    "        action_text = action_text.split(\"assistant\\n\")[-1].strip()\n",
    "        messages.append({\"role\": \"assistant\", \"content\": action_text})\n",
    "\n",
    "        if action_text not in utils.text_to_action:\n",
    "            invalid_actions_this_episode += 1\n",
    "            if invalid_actions_this_episode >= max_invalid_actions: \n",
    "                truncated = True\n",
    "            text_obs = \"You entered an invalid action, the valid actions are: \" + str(list(utils.text_to_action.keys()))\n",
    "            reward = -invalid_action_penalty\n",
    "        else:\n",
    "            action = utils.text_to_action[action_text]\n",
    "            obs, reward, done, info = env.step(action)\n",
    "            text_obs = \"\\n\".join(info[\"descriptions\"])\n",
    "        \n",
    "        messages.append({\"role\": \"user\", \"content\": text_obs})\n",
    "        trajectory.append({\n",
    "            \"inputs\": inputs,\n",
    "            \"outputs\": outputs,\n",
    "            \"reward\": reward\n",
    "        })\n",
    "\n",
    "    if not truncated:\n",
    "        final_reward = trajectory[-1][\"reward\"]\n",
    "        for experience in trajectory:\n",
    "            experience[\"reward\"] += final_reward\n",
    "    \n",
    "    return trajectory\n",
    "\n",
    "trajectory = sample_trajectory(env, trainer, tokenizer, generation_kwargs)\n",
    "pprint(trajectory)"
   ]
  },
  {
   "cell_type": "code",
   "execution_count": null,
   "metadata": {},
   "outputs": [],
   "source": [
    "trajectory[0]['outputs']"
   ]
  },
  {
   "cell_type": "code",
   "execution_count": null,
   "metadata": {},
   "outputs": [],
   "source": [
    "trajectory[0]['inputs']"
   ]
  },
  {
   "cell_type": "code",
   "execution_count": null,
   "metadata": {},
   "outputs": [],
   "source": [
    "tokenizer.decode(trajectory[0]['outputs'])"
   ]
  },
  {
   "cell_type": "code",
   "execution_count": null,
   "metadata": {},
   "outputs": [],
   "source": [
    "trajectory[0]['reward']"
   ]
  },
  {
   "cell_type": "code",
   "execution_count": null,
   "metadata": {},
   "outputs": [],
   "source": [
    "trajectories = []\n",
    "while len(trajectories) < config.batch_size:\n",
    "    trajectories.extend(sample_trajectory(env, trainer, tokenizer, generation_kwargs))\n",
    "    print(f\"Collected {len(trajectories)} experiences\")"
   ]
  },
  {
   "cell_type": "code",
   "execution_count": null,
   "metadata": {},
   "outputs": [],
   "source": [
    "inputs = [experience[\"inputs\"] for experience in trajectories]\n",
    "outputs = [experience[\"outputs\"] for experience in trajectories]\n",
    "rewards = [torch.tensor(experience[\"reward\"], device=device) for experience in trajectories]\n",
    "\n",
    "stats = trainer.step(inputs, outputs, rewards)\n",
    "trainer.log_stats(stats)\n",
    "pprint(stats)"
   ]
  }
 ],
 "metadata": {
  "kernelspec": {
   "display_name": "Python 3",
   "language": "python",
   "name": "python3"
  },
  "language_info": {
   "codemirror_mode": {
    "name": "ipython",
    "version": 3
   },
   "file_extension": ".py",
   "mimetype": "text/x-python",
   "name": "python",
   "nbconvert_exporter": "python",
   "pygments_lexer": "ipython3",
   "version": "3.11.11"
  }
 },
 "nbformat": 4,
 "nbformat_minor": 2
}
