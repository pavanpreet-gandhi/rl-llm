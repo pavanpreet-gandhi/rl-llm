{
 "cells": [
  {
   "cell_type": "code",
   "execution_count": 3,
   "metadata": {},
   "outputs": [
    {
     "name": "stdout",
     "output_type": "stream",
     "text": [
      "Already in rl-llm root directory\n",
      "Current directory: /workspace/rl-llm\n"
     ]
    }
   ],
   "source": [
    "import os\n",
    "# Check if we're in the root directory of rl-llm repo\n",
    "if not os.path.basename(os.getcwd()) == 'rl-llm':\n",
    "    # If we're in a subdirectory of rl-llm, find the root and cd to it\n",
    "    current_path = os.getcwd()\n",
    "    while os.path.basename(current_path) != 'rl-llm' and os.path.dirname(current_path) != current_path:\n",
    "        current_path = os.path.dirname(current_path)\n",
    "    \n",
    "    if os.path.basename(current_path) == 'rl-llm':\n",
    "        os.chdir(current_path)\n",
    "        print(f\"Changed directory to: {current_path}\")\n",
    "    else:\n",
    "        print(\"Not in rl-llm repository structure\")\n",
    "else:\n",
    "    print(\"Already in rl-llm root directory\")\n",
    "\n",
    "print(f\"Current directory: {os.getcwd()}\")"
   ]
  },
  {
   "cell_type": "code",
   "execution_count": 8,
   "metadata": {},
   "outputs": [],
   "source": [
    "# Import necessary libraries\n",
    "import numpy as np\n",
    "import torch\n",
    "import time\n",
    "import matplotlib.pyplot as plt\n",
    "from src import EnvManager, sample_episodes\n",
    "import babyai_text\n",
    "from peft import PeftModel, PeftConfig\n",
    "from typing import Dict, Any, List, Union\n",
    "from transformers import AutoTokenizer\n",
    "from trl import AutoModelForCausalLMWithValueHead\n",
    "import logging\n",
    "import os\n",
    "from IPython.display import display, HTML, Markdown\n",
    "import matplotlib.pyplot as plt\n",
    "import seaborn as sns\n",
    "import numpy as np\n"
   ]
  },
  {
   "cell_type": "code",
   "execution_count": 9,
   "metadata": {},
   "outputs": [],
   "source": [
    "# Set PyTorch CUDA allocator config to reduce fragmentation\n",
    "os.environ[\"PYTORCH_CUDA_ALLOC_CONF\"] = \"expandable_segments:True\"\n",
    "\n",
    "# Suppress transformers logging to ERROR level\n",
    "logging.getLogger(\"transformers\").setLevel(logging.ERROR)\n",
    "\n",
    "# Configure logging\n",
    "logging.basicConfig(\n",
    "    filename=\"outputs/logs/evaluation.log\",\n",
    "    level=logging.INFO,\n",
    "    format=\"%(asctime)s - %(levelname)s - %(message)s\"\n",
    ")\n",
    "\n",
    "# Register levels for logging\n",
    "babyai_text.register_levels(__name__, globals())"
   ]
  },
  {
   "cell_type": "code",
   "execution_count": 10,
   "metadata": {},
   "outputs": [],
   "source": [
    "# Evaluate a model on a single environment\n",
    "def evaluate(\n",
    "    model,\n",
    "    tokenizer,\n",
    "    env_id: str,\n",
    "    context_window: int,\n",
    "    num_envs: int = 6,\n",
    "    num_episodes: int = 40,\n",
    "    reasoning_flag: bool = False,\n",
    "    generation_kwargs: dict = None,\n",
    "    device: torch.device = None,\n",
    "    invalid_action_penalty: float = -1,\n",
    "    consecutive_invalid_actions_allowed: int = 5,\n",
    "    model_name: str = \"model\",\n",
    "    step_offset: int = 0, # count the number of steps from the start of the episode\n",
    "    num_dists: int = 0, # number of distractors\n",
    ") -> Dict[str, Any]:\n",
    "    if generation_kwargs is None:\n",
    "        generation_kwargs = {\n",
    "            \"max_new_tokens\": 20,\n",
    "            \"do_sample\": True,\n",
    "            \"top_k\": 50,\n",
    "            \"top_p\": 0.9,\n",
    "            \"temperature\": 0.7,\n",
    "        }\n",
    "\n",
    "    if device is None:\n",
    "        device = torch.device(\"cuda\" if torch.cuda.is_available() else \"cpu\")\n",
    "\n",
    "    logging.info(f\"Evaluating {model_name} on {env_id} with {num_episodes} episodes (reasoning={reasoning_flag}, num_dists={num_dists})\")\n",
    "    print(f\"Evaluating {model_name} on {env_id} with {num_episodes} episodes (reasoning={reasoning_flag}, num_dists={num_dists})...\")\n",
    "\n",
    "    model.to(device)\n",
    "    model.eval()\n",
    "\n",
    "    if not hasattr(model, \"generation_config\"):\n",
    "        from transformers import GenerationConfig\n",
    "        model.generation_config = GenerationConfig(**generation_kwargs)\n",
    "\n",
    "    envs = [\n",
    "        EnvManager(\n",
    "            env_ids=[env_id],\n",
    "            num_dists=num_dists,  # Pass num_dists to EnvManager\n",
    "            invalid_action_penalty=invalid_action_penalty,\n",
    "            consecutive_invalid_actions_allowed=consecutive_invalid_actions_allowed,\n",
    "            reasoning_flag=reasoning_flag\n",
    "        )\n",
    "        for _ in range(num_envs)\n",
    "    ]\n",
    "\n",
    "    eval_start_time = time.time()\n",
    "    stats, contexts = sample_episodes(\n",
    "        envs=envs,\n",
    "        tokenizer=tokenizer,\n",
    "        model=model,\n",
    "        generation_kwargs=generation_kwargs,\n",
    "        device=device,\n",
    "        number_of_episodes=num_episodes,\n",
    "        context_window=context_window,\n",
    "        reasoning_flag=reasoning_flag,\n",
    "    )\n",
    "    eval_end_time = time.time()\n",
    "\n",
    "    num_samples = len(stats[\"success\"])\n",
    "    if num_samples == 0:\n",
    "        metrics = {\n",
    "            \"num_episodes\": 0,\n",
    "            \"success_rate\": 0.0,\n",
    "            \"success_rate_std\": 0.0,\n",
    "            \"avg_reward\": 0.0,\n",
    "            \"avg_reward_std\": 0.0,\n",
    "            \"avg_steps\": 0.0,\n",
    "            \"avg_steps_std\": 0.0,\n",
    "            \"invalid_action_rate\": 0.0,\n",
    "            \"invalid_action_rate_std\": 0.0,\n",
    "            \"avg_steps_to_success\": float(\"nan\"),\n",
    "            \"avg_steps_to_success_std\": float(\"nan\"),\n",
    "            \"avg_total_time\": 0.0,\n",
    "            \"avg_generate_time\": 0.0,\n",
    "        }\n",
    "        logging.warning(f\"No episodes completed for {model_name} on {env_id}\")\n",
    "        return {\n",
    "            \"final_metrics\": metrics,\n",
    "            \"running_success_rates\": [],\n",
    "            \"running_avg_rewards\": [],\n",
    "            \"episode_times\": [],\n",
    "        }\n",
    "\n",
    "    success_tensor = torch.tensor(stats[\"success\"], dtype=torch.float32)\n",
    "    reward_tensor = torch.tensor(stats[\"rewards\"], dtype=torch.float32)\n",
    "    length_tensor = torch.tensor(stats[\"episode_lengths\"], dtype=torch.float32)\n",
    "    invalid_tensor = torch.tensor(stats[\"num_invalid_actions\"], dtype=torch.float32)\n",
    "\n",
    "    success_rate = success_tensor.mean().item()\n",
    "    success_rate_std = success_tensor.std().item() if num_samples > 1 else 0.0\n",
    "    avg_reward = reward_tensor.mean().item()\n",
    "    avg_reward_std = reward_tensor.std().item() if num_samples > 1 else 0.0\n",
    "    avg_steps = length_tensor.mean().item()\n",
    "    avg_steps_std = length_tensor.std().item() if num_samples > 1 else 0.0\n",
    "    invalid_rate = invalid_tensor.mean().item()\n",
    "    invalid_rate_std = invalid_tensor.std().item() if num_samples > 1 else 0.0\n",
    "\n",
    "    successful_indices = (success_tensor == 1)\n",
    "    if successful_indices.any():\n",
    "        steps_for_successes = length_tensor[successful_indices]\n",
    "        avg_steps_success = steps_for_successes.mean().item()\n",
    "        avg_steps_success_std = steps_for_successes.std().item() if len(steps_for_successes) > 1 else 0.0\n",
    "    else:\n",
    "        avg_steps_success = float(\"nan\")\n",
    "        avg_steps_success_std = float(\"nan\")\n",
    "\n",
    "    total_time = eval_end_time - eval_start_time\n",
    "    avg_generate_time = stats.get(\"total_generate_time\", float(\"nan\")) / num_samples if num_samples > 0 else float(\"nan\")\n",
    "\n",
    "    metrics = {\n",
    "        \"num_episodes\": num_samples,\n",
    "        \"success_rate\": success_rate,\n",
    "        \"success_rate_std\": success_rate_std,\n",
    "        \"avg_reward\": avg_reward,\n",
    "        \"avg_reward_std\": avg_reward_std,\n",
    "        \"avg_steps\": avg_steps,\n",
    "        \"avg_steps_std\": avg_steps_std,\n",
    "        \"invalid_action_rate\": invalid_rate,\n",
    "        \"invalid_action_rate_std\": invalid_rate_std,\n",
    "        \"avg_steps_to_success\": avg_steps_success,\n",
    "        \"avg_steps_to_success_std\": avg_steps_success_std,\n",
    "        \"avg_total_time\": total_time,\n",
    "        \"avg_total_time_std\": 0.0,\n",
    "        \"avg_generate_time\": avg_generate_time,\n",
    "        \"avg_generate_time_std\": 0.0,\n",
    "    }\n",
    "\n",
    "    logging.info(f\"Metrics for {model_name} on {env_id}: {metrics}\")\n",
    "    return {\n",
    "        \"final_metrics\": metrics,\n",
    "        \"running_success_rates\": [],\n",
    "        \"running_avg_rewards\": [],\n",
    "        \"episode_times\": [],\n",
    "    }"
   ]
  },
  {
   "cell_type": "code",
   "execution_count": 11,
   "metadata": {},
   "outputs": [],
   "source": [
    "# Function for plotting bar charts\n",
    "def plot_performance(\n",
    "    env_ids: List[str],\n",
    "    context_window: int,\n",
    "    baseline_non_reasoning_results: Dict[str, float],\n",
    "    baseline_reasoning_results: Dict[str, float],\n",
    "    reasoning_results: Dict[str, float],\n",
    "    non_reasoning_results: Dict[str, float],\n",
    "    env_type: str,\n",
    "    checkpoint_name: str,\n",
    "):\n",
    "    fig, ax = plt.subplots(figsize=(12, 6))\n",
    "    n_envs = len(env_ids)\n",
    "    bar_width = 0.2\n",
    "    index = np.arange(n_envs)\n",
    "\n",
    "    ax.bar(index - bar_width * 1.5, [baseline_non_reasoning_results[env_id] for env_id in env_ids], \n",
    "           bar_width, label=\"Baseline (Non-Reasoning)\", color='red', alpha=0.7)\n",
    "    ax.bar(index - bar_width * 0.5, [baseline_reasoning_results[env_id] for env_id in env_ids], \n",
    "           bar_width, label=\"Baseline (Reasoning)\", color='orange', alpha=0.7)\n",
    "    ax.bar(index + bar_width * 0.5, [reasoning_results[env_id] for env_id in env_ids], \n",
    "           bar_width, label=\"Reasoning (Trained)\", color='blue', alpha=0.7)\n",
    "    ax.bar(index + bar_width * 1.5, [non_reasoning_results[env_id] for env_id in env_ids], \n",
    "           bar_width, label=\"Non-Reasoning (Trained)\", color='green', alpha=0.7)\n",
    "\n",
    "    ax.set_xlabel(\"Environments\", fontsize=12)\n",
    "    ax.set_ylabel(\"Success Rate\", fontsize=12)\n",
    "    ax.set_title(f\"Model Performance Comparison (Checkpoint: {checkpoint_name}, Context Window: {context_window}, {env_type})\", fontsize=14)\n",
    "    ax.set_xticks(index)\n",
    "    ax.set_xticklabels(env_ids, rotation=45, ha='right')\n",
    "    ax.set_ylim(0, 1)\n",
    "    ax.legend()\n",
    "    ax.grid(True, linestyle='--', alpha=0.7)\n",
    "\n",
    "    plt.tight_layout()\n",
    "    plot_path = f\"outputs/plots/{env_type.lower()}_comparison_{checkpoint_name}_ctx{context_window}.png\"\n",
    "    plt.savefig(plot_path, dpi=300, bbox_inches='tight')\n",
    "    plt.close()\n",
    "    logging.info(f\"Plot saved to {plot_path}\")"
   ]
  },
  {
   "cell_type": "code",
   "execution_count": 12,
   "metadata": {},
   "outputs": [],
   "source": [
    "# Function to evaluate multiple models on multiple environments\n",
    "def evaluate_models(\n",
    "    models_info: List[Dict[str, Any]],\n",
    "    seen_env_ids: List[str],\n",
    "    unseen_env_ids: List[str],\n",
    "    context_window: int = 5,\n",
    "    num_envs: int = 6,\n",
    "    num_episodes: int = 40,\n",
    "    generation_kwargs: dict = None,\n",
    "    device: torch.device = None,\n",
    "    invalid_action_penalty: float = -1,\n",
    "    consecutive_invalid_actions_allowed: int = 5,\n",
    "    step_offset: int = 0,\n",
    "    num_dists: int = 0,\n",
    ") -> tuple[Dict[str, Dict[str, Dict[int, Dict[str, Any]]]], Dict[str, Dict[str, Dict[int, Dict[str, Any]]]]]:\n",
    "    if generation_kwargs is None:\n",
    "        generation_kwargs = {\n",
    "            \"max_new_tokens\": 20,\n",
    "            \"do_sample\": True,\n",
    "            \"top_k\": 50,\n",
    "            \"top_p\": 0.9,\n",
    "            \"temperature\": 0.7,\n",
    "        }\n",
    "\n",
    "    if device is None:\n",
    "        device = torch.device(\"cuda\" if torch.cuda.is_available() else \"cpu\")\n",
    "\n",
    "    results = {}\n",
    "    current_step = step_offset\n",
    "\n",
    "    # Find the baseline model\n",
    "    baseline_model_info = None\n",
    "    for model_info in models_info:\n",
    "        if \"baseline\" in model_info['name'].lower():\n",
    "            baseline_model_info = model_info\n",
    "            break\n",
    "\n",
    "    if baseline_model_info is None:\n",
    "        raise ValueError(\"Baseline (untrained) model not found in models_info.\")\n",
    "\n",
    "    # Evaluate baseline model\n",
    "    baseline_results = {\"seen\": {}, \"unseen\": {}}\n",
    "    for env_id in seen_env_ids:\n",
    "        baseline_results[\"seen\"][env_id] = {}\n",
    "        baseline_results[\"seen\"][env_id][context_window] = {}\n",
    "        print(f\"\\n=== Evaluating baseline model (non-reasoning) on seen env {env_id} with context {context_window} ===\")\n",
    "        non_reasoning_result = evaluate(\n",
    "            model=baseline_model_info['model'],\n",
    "            tokenizer=baseline_model_info['tokenizer'],\n",
    "            env_id=env_id,\n",
    "            context_window=context_window,\n",
    "            num_envs=num_envs,\n",
    "            num_episodes=num_episodes,\n",
    "            reasoning_flag=False,\n",
    "            generation_kwargs=generation_kwargs,\n",
    "            device=device,\n",
    "            invalid_action_penalty=invalid_action_penalty,\n",
    "            consecutive_invalid_actions_allowed=consecutive_invalid_actions_allowed,\n",
    "            model_name=baseline_model_info['name'] + \"-non-reasoning\",\n",
    "            step_offset=current_step,\n",
    "            num_dists=num_dists,\n",
    "        )\n",
    "        # Store full metrics instead of just success_rate\n",
    "        baseline_results[\"seen\"][env_id][context_window][\"non_reasoning\"] = non_reasoning_result[\"final_metrics\"]\n",
    "        current_step += num_episodes\n",
    "\n",
    "        print(f\"\\n=== Evaluating baseline model (reasoning) on seen env {env_id} with context {context_window} ===\")\n",
    "        reasoning_result = evaluate(\n",
    "            model=baseline_model_info['model'],\n",
    "            tokenizer=baseline_model_info['tokenizer'],\n",
    "            env_id=env_id,\n",
    "            context_window=context_window,\n",
    "            num_envs=num_envs,\n",
    "            num_episodes=num_episodes,\n",
    "            reasoning_flag=True,\n",
    "            generation_kwargs=generation_kwargs,\n",
    "            device=device,\n",
    "            invalid_action_penalty=invalid_action_penalty,\n",
    "            consecutive_invalid_actions_allowed=consecutive_invalid_actions_allowed,\n",
    "            model_name=baseline_model_info['name'] + \"-reasoning\",\n",
    "            step_offset=current_step,\n",
    "            num_dists=num_dists,\n",
    "        )\n",
    "        # Store full metrics instead of just success_rate\n",
    "        baseline_results[\"seen\"][env_id][context_window][\"reasoning\"] = reasoning_result[\"final_metrics\"]\n",
    "        current_step += num_episodes\n",
    "\n",
    "    for env_id in unseen_env_ids:\n",
    "        baseline_results[\"unseen\"][env_id] = {}\n",
    "        baseline_results[\"unseen\"][env_id][context_window] = {}\n",
    "        print(f\"\\n=== Evaluating baseline model (non-reasoning) on unseen env {env_id} with context {context_window} ===\")\n",
    "        non_reasoning_result = evaluate(\n",
    "            model=baseline_model_info['model'],\n",
    "            tokenizer=baseline_model_info['tokenizer'],\n",
    "            env_id=env_id,\n",
    "            context_window=context_window,\n",
    "            num_envs=num_envs,\n",
    "            num_episodes=num_episodes,\n",
    "            reasoning_flag=False,\n",
    "            generation_kwargs=generation_kwargs,\n",
    "            device=device,\n",
    "            invalid_action_penalty=invalid_action_penalty,\n",
    "            consecutive_invalid_actions_allowed=consecutive_invalid_actions_allowed,\n",
    "            model_name=baseline_model_info['name'] + \"-non-reasoning\",\n",
    "            step_offset=current_step,\n",
    "            num_dists=num_dists,\n",
    "        )\n",
    "        # Store full metrics instead of just success_rate\n",
    "        baseline_results[\"unseen\"][env_id][context_window][\"non_reasoning\"] = non_reasoning_result[\"final_metrics\"]\n",
    "        current_step += num_episodes\n",
    "\n",
    "        print(f\"\\n=== Evaluating baseline model (reasoning) on unseen env {env_id} with context {context_window} ===\")\n",
    "        reasoning_result = evaluate(\n",
    "            model=baseline_model_info['model'],\n",
    "            tokenizer=baseline_model_info['tokenizer'],\n",
    "            env_id=env_id,\n",
    "            context_window=context_window,\n",
    "            num_envs=num_envs,\n",
    "            num_episodes=num_episodes,\n",
    "            reasoning_flag=True,\n",
    "            generation_kwargs=generation_kwargs,\n",
    "            device=device,\n",
    "            invalid_action_penalty=invalid_action_penalty,\n",
    "            consecutive_invalid_actions_allowed=consecutive_invalid_actions_allowed,\n",
    "            model_name=baseline_model_info['name'] + \"-reasoning\",\n",
    "            step_offset=current_step,\n",
    "            num_dists=num_dists,\n",
    "        )\n",
    "        # Store full metrics instead of just success_rate\n",
    "        baseline_results[\"unseen\"][env_id][context_window][\"reasoning\"] = reasoning_result[\"final_metrics\"]\n",
    "        current_step += num_episodes\n",
    "\n",
    "    # Evaluate trained models\n",
    "    for model_info in models_info:\n",
    "        if \"baseline\" in model_info['name'].lower():\n",
    "            continue\n",
    "\n",
    "        model = model_info['model']\n",
    "        tokenizer = model_info['tokenizer']\n",
    "        model_name = model_info['name']\n",
    "        checkpoint_name = model_info.get('checkpoint_name', model_name)\n",
    "        results[model_name] = {\"seen\": {}, \"unseen\": {}}\n",
    "\n",
    "        for env_id in seen_env_ids:\n",
    "            results[model_name][\"seen\"][env_id] = {}\n",
    "            results[model_name][\"seen\"][env_id][context_window] = {}\n",
    "            print(f\"\\n=== Evaluating {model_name} on seen env {env_id} with context {context_window} ===\")\n",
    "            reasoning_result = evaluate(\n",
    "                model=model,\n",
    "                tokenizer=tokenizer,\n",
    "                env_id=env_id,\n",
    "                context_window=context_window,\n",
    "                num_envs=num_envs,\n",
    "                num_episodes=num_episodes,\n",
    "                reasoning_flag=True,\n",
    "                generation_kwargs=generation_kwargs,\n",
    "                device=device,\n",
    "                invalid_action_penalty=invalid_action_penalty,\n",
    "                consecutive_invalid_actions_allowed=consecutive_invalid_actions_allowed,\n",
    "                model_name=model_name + \"-reasoning\",\n",
    "                step_offset=current_step,\n",
    "                num_dists=num_dists,\n",
    "            )\n",
    "            non_reasoning_result = evaluate(\n",
    "                model=model,\n",
    "                tokenizer=tokenizer,\n",
    "                env_id=env_id,\n",
    "                context_window=context_window,\n",
    "                num_envs=num_envs,\n",
    "                num_episodes=num_episodes,\n",
    "                reasoning_flag=False,\n",
    "                generation_kwargs=generation_kwargs,\n",
    "                device=device,\n",
    "                invalid_action_penalty=invalid_action_penalty,\n",
    "                consecutive_invalid_actions_allowed=consecutive_invalid_actions_allowed,\n",
    "                model_name=model_name + \"-non-reasoning\",\n",
    "                step_offset=current_step + num_episodes,\n",
    "                num_dists=num_dists,\n",
    "            )\n",
    "            results[model_name][\"seen\"][env_id][context_window] = {\n",
    "                \"reasoning\": reasoning_result[\"final_metrics\"],\n",
    "                \"non_reasoning\": non_reasoning_result[\"final_metrics\"],\n",
    "            }\n",
    "            current_step += 2 * num_episodes\n",
    "\n",
    "        for env_id in unseen_env_ids:\n",
    "            results[model_name][\"unseen\"][env_id] = {}\n",
    "            results[model_name][\"unseen\"][env_id][context_window] = {}\n",
    "            print(f\"\\n=== Evaluating {model_name} on unseen env {env_id} with context {context_window} ===\")\n",
    "            reasoning_result = evaluate(\n",
    "                model=model,\n",
    "                tokenizer=tokenizer,\n",
    "                env_id=env_id,\n",
    "                context_window=context_window,\n",
    "                num_envs=num_envs,\n",
    "                num_episodes=num_episodes,\n",
    "                reasoning_flag=True,\n",
    "                generation_kwargs=generation_kwargs,\n",
    "                device=device,\n",
    "                invalid_action_penalty=invalid_action_penalty,\n",
    "                consecutive_invalid_actions_allowed=consecutive_invalid_actions_allowed,\n",
    "                model_name=model_name + \"-reasoning\",\n",
    "                step_offset=current_step,\n",
    "                num_dists=num_dists,\n",
    "            )\n",
    "            non_reasoning_result = evaluate(\n",
    "                model=model,\n",
    "                tokenizer=tokenizer,\n",
    "                env_id=env_id,\n",
    "                context_window=context_window,\n",
    "                num_envs=num_envs,\n",
    "                num_episodes=num_episodes,\n",
    "                reasoning_flag=False,\n",
    "                generation_kwargs=generation_kwargs,\n",
    "                device=device,\n",
    "                invalid_action_penalty=invalid_action_penalty,\n",
    "                consecutive_invalid_actions_allowed=consecutive_invalid_actions_allowed,\n",
    "                model_name=model_name + \"-non-reasoning\",\n",
    "                step_offset=current_step + num_episodes,\n",
    "                num_dists=num_dists,\n",
    "            )\n",
    "            results[model_name][\"unseen\"][env_id][context_window] = {\n",
    "                \"reasoning\": reasoning_result[\"final_metrics\"],\n",
    "                \"non_reasoning\": non_reasoning_result[\"final_metrics\"],\n",
    "            }\n",
    "            current_step += 2 * num_episodes\n",
    "\n",
    "        # Update plotting to use full metrics\n",
    "        seen_baseline_non_reasoning = {env_id: baseline_results[\"seen\"][env_id][context_window][\"non_reasoning\"][\"success_rate\"] for env_id in seen_env_ids}\n",
    "        seen_baseline_reasoning = {env_id: baseline_results[\"seen\"][env_id][context_window][\"reasoning\"][\"success_rate\"] for env_id in seen_env_ids}\n",
    "        seen_reasoning = {env_id: results[model_name][\"seen\"][env_id][context_window][\"reasoning\"][\"success_rate\"] for env_id in seen_env_ids}\n",
    "        seen_non_reasoning = {env_id: results[model_name][\"seen\"][env_id][context_window][\"non_reasoning\"][\"success_rate\"] for env_id in seen_env_ids}\n",
    "\n",
    "        plot_performance(\n",
    "            env_ids=seen_env_ids,\n",
    "            context_window=context_window,\n",
    "            baseline_non_reasoning_results=seen_baseline_non_reasoning,\n",
    "            baseline_reasoning_results=seen_baseline_reasoning,\n",
    "            reasoning_results=seen_reasoning,\n",
    "            non_reasoning_results=seen_non_reasoning,\n",
    "            env_type=\"Seen\",\n",
    "            checkpoint_name=checkpoint_name,\n",
    "        )\n",
    "\n",
    "        unseen_baseline_non_reasoning = {env_id: baseline_results[\"unseen\"][env_id][context_window][\"non_reasoning\"][\"success_rate\"] for env_id in unseen_env_ids}\n",
    "        unseen_baseline_reasoning = {env_id: baseline_results[\"unseen\"][env_id][context_window][\"reasoning\"][\"success_rate\"] for env_id in unseen_env_ids}\n",
    "        unseen_reasoning = {env_id: results[model_name][\"unseen\"][env_id][context_window][\"reasoning\"][\"success_rate\"] for env_id in unseen_env_ids}\n",
    "        unseen_non_reasoning = {env_id: results[model_name][\"unseen\"][env_id][context_window][\"non_reasoning\"][\"success_rate\"] for env_id in unseen_env_ids}\n",
    "\n",
    "        plot_performance(\n",
    "            env_ids=unseen_env_ids,\n",
    "            context_window=context_window,\n",
    "            baseline_non_reasoning_results=unseen_baseline_non_reasoning,\n",
    "            baseline_reasoning_results=unseen_baseline_reasoning,\n",
    "            reasoning_results=unseen_reasoning,\n",
    "            non_reasoning_results=unseen_non_reasoning,\n",
    "            env_type=\"Unseen\",\n",
    "            checkpoint_name=checkpoint_name,\n",
    "        )\n",
    "\n",
    "    return results, baseline_results"
   ]
  },
  {
   "cell_type": "code",
   "execution_count": 13,
   "metadata": {},
   "outputs": [
    {
     "data": {
      "application/vnd.jupyter.widget-view+json": {
       "model_id": "f6f01c69002a4cb88c9d3b9a7afedbe0",
       "version_major": 2,
       "version_minor": 0
      },
      "text/plain": [
       "Loading checkpoint shards:   0%|          | 0/2 [00:00<?, ?it/s]"
      ]
     },
     "metadata": {},
     "output_type": "display_data"
    },
    {
     "name": "stdout",
     "output_type": "stream",
     "text": [
      "Setting pad_token to eos_token for llama-3.2-3b-baseline\n"
     ]
    },
    {
     "name": "stderr",
     "output_type": "stream",
     "text": [
      "/workspace/rl-llm/.venv/lib/python3.10/site-packages/peft/peft_model.py:569: UserWarning: Found missing adapter keys while loading the checkpoint: ['base_model.model.pretrained_model.model.layers.0.self_attn.q_proj.lora_A.default.weight', 'base_model.model.pretrained_model.model.layers.0.self_attn.q_proj.lora_B.default.weight', 'base_model.model.pretrained_model.model.layers.0.self_attn.v_proj.lora_A.default.weight', 'base_model.model.pretrained_model.model.layers.0.self_attn.v_proj.lora_B.default.weight', 'base_model.model.pretrained_model.model.layers.1.self_attn.q_proj.lora_A.default.weight', 'base_model.model.pretrained_model.model.layers.1.self_attn.q_proj.lora_B.default.weight', 'base_model.model.pretrained_model.model.layers.1.self_attn.v_proj.lora_A.default.weight', 'base_model.model.pretrained_model.model.layers.1.self_attn.v_proj.lora_B.default.weight', 'base_model.model.pretrained_model.model.layers.2.self_attn.q_proj.lora_A.default.weight', 'base_model.model.pretrained_model.model.layers.2.self_attn.q_proj.lora_B.default.weight', 'base_model.model.pretrained_model.model.layers.2.self_attn.v_proj.lora_A.default.weight', 'base_model.model.pretrained_model.model.layers.2.self_attn.v_proj.lora_B.default.weight', 'base_model.model.pretrained_model.model.layers.3.self_attn.q_proj.lora_A.default.weight', 'base_model.model.pretrained_model.model.layers.3.self_attn.q_proj.lora_B.default.weight', 'base_model.model.pretrained_model.model.layers.3.self_attn.v_proj.lora_A.default.weight', 'base_model.model.pretrained_model.model.layers.3.self_attn.v_proj.lora_B.default.weight', 'base_model.model.pretrained_model.model.layers.4.self_attn.q_proj.lora_A.default.weight', 'base_model.model.pretrained_model.model.layers.4.self_attn.q_proj.lora_B.default.weight', 'base_model.model.pretrained_model.model.layers.4.self_attn.v_proj.lora_A.default.weight', 'base_model.model.pretrained_model.model.layers.4.self_attn.v_proj.lora_B.default.weight', 'base_model.model.pretrained_model.model.layers.5.self_attn.q_proj.lora_A.default.weight', 'base_model.model.pretrained_model.model.layers.5.self_attn.q_proj.lora_B.default.weight', 'base_model.model.pretrained_model.model.layers.5.self_attn.v_proj.lora_A.default.weight', 'base_model.model.pretrained_model.model.layers.5.self_attn.v_proj.lora_B.default.weight', 'base_model.model.pretrained_model.model.layers.6.self_attn.q_proj.lora_A.default.weight', 'base_model.model.pretrained_model.model.layers.6.self_attn.q_proj.lora_B.default.weight', 'base_model.model.pretrained_model.model.layers.6.self_attn.v_proj.lora_A.default.weight', 'base_model.model.pretrained_model.model.layers.6.self_attn.v_proj.lora_B.default.weight', 'base_model.model.pretrained_model.model.layers.7.self_attn.q_proj.lora_A.default.weight', 'base_model.model.pretrained_model.model.layers.7.self_attn.q_proj.lora_B.default.weight', 'base_model.model.pretrained_model.model.layers.7.self_attn.v_proj.lora_A.default.weight', 'base_model.model.pretrained_model.model.layers.7.self_attn.v_proj.lora_B.default.weight', 'base_model.model.pretrained_model.model.layers.8.self_attn.q_proj.lora_A.default.weight', 'base_model.model.pretrained_model.model.layers.8.self_attn.q_proj.lora_B.default.weight', 'base_model.model.pretrained_model.model.layers.8.self_attn.v_proj.lora_A.default.weight', 'base_model.model.pretrained_model.model.layers.8.self_attn.v_proj.lora_B.default.weight', 'base_model.model.pretrained_model.model.layers.9.self_attn.q_proj.lora_A.default.weight', 'base_model.model.pretrained_model.model.layers.9.self_attn.q_proj.lora_B.default.weight', 'base_model.model.pretrained_model.model.layers.9.self_attn.v_proj.lora_A.default.weight', 'base_model.model.pretrained_model.model.layers.9.self_attn.v_proj.lora_B.default.weight', 'base_model.model.pretrained_model.model.layers.10.self_attn.q_proj.lora_A.default.weight', 'base_model.model.pretrained_model.model.layers.10.self_attn.q_proj.lora_B.default.weight', 'base_model.model.pretrained_model.model.layers.10.self_attn.v_proj.lora_A.default.weight', 'base_model.model.pretrained_model.model.layers.10.self_attn.v_proj.lora_B.default.weight', 'base_model.model.pretrained_model.model.layers.11.self_attn.q_proj.lora_A.default.weight', 'base_model.model.pretrained_model.model.layers.11.self_attn.q_proj.lora_B.default.weight', 'base_model.model.pretrained_model.model.layers.11.self_attn.v_proj.lora_A.default.weight', 'base_model.model.pretrained_model.model.layers.11.self_attn.v_proj.lora_B.default.weight', 'base_model.model.pretrained_model.model.layers.12.self_attn.q_proj.lora_A.default.weight', 'base_model.model.pretrained_model.model.layers.12.self_attn.q_proj.lora_B.default.weight', 'base_model.model.pretrained_model.model.layers.12.self_attn.v_proj.lora_A.default.weight', 'base_model.model.pretrained_model.model.layers.12.self_attn.v_proj.lora_B.default.weight', 'base_model.model.pretrained_model.model.layers.13.self_attn.q_proj.lora_A.default.weight', 'base_model.model.pretrained_model.model.layers.13.self_attn.q_proj.lora_B.default.weight', 'base_model.model.pretrained_model.model.layers.13.self_attn.v_proj.lora_A.default.weight', 'base_model.model.pretrained_model.model.layers.13.self_attn.v_proj.lora_B.default.weight', 'base_model.model.pretrained_model.model.layers.14.self_attn.q_proj.lora_A.default.weight', 'base_model.model.pretrained_model.model.layers.14.self_attn.q_proj.lora_B.default.weight', 'base_model.model.pretrained_model.model.layers.14.self_attn.v_proj.lora_A.default.weight', 'base_model.model.pretrained_model.model.layers.14.self_attn.v_proj.lora_B.default.weight', 'base_model.model.pretrained_model.model.layers.15.self_attn.q_proj.lora_A.default.weight', 'base_model.model.pretrained_model.model.layers.15.self_attn.q_proj.lora_B.default.weight', 'base_model.model.pretrained_model.model.layers.15.self_attn.v_proj.lora_A.default.weight', 'base_model.model.pretrained_model.model.layers.15.self_attn.v_proj.lora_B.default.weight', 'base_model.model.pretrained_model.model.layers.16.self_attn.q_proj.lora_A.default.weight', 'base_model.model.pretrained_model.model.layers.16.self_attn.q_proj.lora_B.default.weight', 'base_model.model.pretrained_model.model.layers.16.self_attn.v_proj.lora_A.default.weight', 'base_model.model.pretrained_model.model.layers.16.self_attn.v_proj.lora_B.default.weight', 'base_model.model.pretrained_model.model.layers.17.self_attn.q_proj.lora_A.default.weight', 'base_model.model.pretrained_model.model.layers.17.self_attn.q_proj.lora_B.default.weight', 'base_model.model.pretrained_model.model.layers.17.self_attn.v_proj.lora_A.default.weight', 'base_model.model.pretrained_model.model.layers.17.self_attn.v_proj.lora_B.default.weight', 'base_model.model.pretrained_model.model.layers.18.self_attn.q_proj.lora_A.default.weight', 'base_model.model.pretrained_model.model.layers.18.self_attn.q_proj.lora_B.default.weight', 'base_model.model.pretrained_model.model.layers.18.self_attn.v_proj.lora_A.default.weight', 'base_model.model.pretrained_model.model.layers.18.self_attn.v_proj.lora_B.default.weight', 'base_model.model.pretrained_model.model.layers.19.self_attn.q_proj.lora_A.default.weight', 'base_model.model.pretrained_model.model.layers.19.self_attn.q_proj.lora_B.default.weight', 'base_model.model.pretrained_model.model.layers.19.self_attn.v_proj.lora_A.default.weight', 'base_model.model.pretrained_model.model.layers.19.self_attn.v_proj.lora_B.default.weight', 'base_model.model.pretrained_model.model.layers.20.self_attn.q_proj.lora_A.default.weight', 'base_model.model.pretrained_model.model.layers.20.self_attn.q_proj.lora_B.default.weight', 'base_model.model.pretrained_model.model.layers.20.self_attn.v_proj.lora_A.default.weight', 'base_model.model.pretrained_model.model.layers.20.self_attn.v_proj.lora_B.default.weight', 'base_model.model.pretrained_model.model.layers.21.self_attn.q_proj.lora_A.default.weight', 'base_model.model.pretrained_model.model.layers.21.self_attn.q_proj.lora_B.default.weight', 'base_model.model.pretrained_model.model.layers.21.self_attn.v_proj.lora_A.default.weight', 'base_model.model.pretrained_model.model.layers.21.self_attn.v_proj.lora_B.default.weight', 'base_model.model.pretrained_model.model.layers.22.self_attn.q_proj.lora_A.default.weight', 'base_model.model.pretrained_model.model.layers.22.self_attn.q_proj.lora_B.default.weight', 'base_model.model.pretrained_model.model.layers.22.self_attn.v_proj.lora_A.default.weight', 'base_model.model.pretrained_model.model.layers.22.self_attn.v_proj.lora_B.default.weight', 'base_model.model.pretrained_model.model.layers.23.self_attn.q_proj.lora_A.default.weight', 'base_model.model.pretrained_model.model.layers.23.self_attn.q_proj.lora_B.default.weight', 'base_model.model.pretrained_model.model.layers.23.self_attn.v_proj.lora_A.default.weight', 'base_model.model.pretrained_model.model.layers.23.self_attn.v_proj.lora_B.default.weight', 'base_model.model.pretrained_model.model.layers.24.self_attn.q_proj.lora_A.default.weight', 'base_model.model.pretrained_model.model.layers.24.self_attn.q_proj.lora_B.default.weight', 'base_model.model.pretrained_model.model.layers.24.self_attn.v_proj.lora_A.default.weight', 'base_model.model.pretrained_model.model.layers.24.self_attn.v_proj.lora_B.default.weight', 'base_model.model.pretrained_model.model.layers.25.self_attn.q_proj.lora_A.default.weight', 'base_model.model.pretrained_model.model.layers.25.self_attn.q_proj.lora_B.default.weight', 'base_model.model.pretrained_model.model.layers.25.self_attn.v_proj.lora_A.default.weight', 'base_model.model.pretrained_model.model.layers.25.self_attn.v_proj.lora_B.default.weight', 'base_model.model.pretrained_model.model.layers.26.self_attn.q_proj.lora_A.default.weight', 'base_model.model.pretrained_model.model.layers.26.self_attn.q_proj.lora_B.default.weight', 'base_model.model.pretrained_model.model.layers.26.self_attn.v_proj.lora_A.default.weight', 'base_model.model.pretrained_model.model.layers.26.self_attn.v_proj.lora_B.default.weight', 'base_model.model.pretrained_model.model.layers.27.self_attn.q_proj.lora_A.default.weight', 'base_model.model.pretrained_model.model.layers.27.self_attn.q_proj.lora_B.default.weight', 'base_model.model.pretrained_model.model.layers.27.self_attn.v_proj.lora_A.default.weight', 'base_model.model.pretrained_model.model.layers.27.self_attn.v_proj.lora_B.default.weight'].\n",
      "  warnings.warn(warn_message)\n"
     ]
    }
   ],
   "source": [
    "# Load baseline model\n",
    "baseline_model = AutoModelForCausalLMWithValueHead.from_pretrained(\n",
    "    \"meta-llama/Llama-3.2-3B-Instruct\",\n",
    "    torch_dtype=torch.bfloat16,\n",
    "    device_map=\"cuda\",\n",
    ")\n",
    "baseline_tokenizer = AutoTokenizer.from_pretrained(\n",
    "    \"meta-llama/Llama-3.2-3B-Instruct\",\n",
    "    padding_side=\"left\"\n",
    ")\n",
    "\n",
    "# Initialize models_info with baseline model\n",
    "models_info = [\n",
    "    {\n",
    "        'model': baseline_model,\n",
    "        'tokenizer': baseline_tokenizer,\n",
    "        'name': 'llama-3.2-3b-baseline'\n",
    "    }\n",
    "]\n",
    "\n",
    "# Checkpoints\n",
    "checkpoints = [\n",
    "    (\"CatkinChen/final_runs-Reasoning_trial_2_dist_3\", \"5decb78a8bbe8aba19865a960c82a67b01a37167\"),  # Checkpoint 340\n",
    "]\n",
    "\n",
    "# Add each checkpoint as a trained model\n",
    "for idx, (checkpoint, commit_hash) in enumerate(checkpoints):\n",
    "    peft_config = PeftConfig.from_pretrained(checkpoint, revision=commit_hash)\n",
    "    peft_model = PeftModel.from_pretrained(baseline_model, checkpoint, revision=commit_hash)\n",
    "    checkpoint_short_name = f\"Checkpoint_{(340 - idx*10)}\" # Change 340 to the final checkpoint number\n",
    "    \n",
    "    models_info.append({\n",
    "        'model': peft_model,\n",
    "        'tokenizer': baseline_tokenizer,\n",
    "        'name': f'llama-3.2-3b-trained-{idx}',\n",
    "        'checkpoint_name': checkpoint_short_name\n",
    "    })\n",
    "\n",
    "# Configure tokenizers and pad tokens\n",
    "for model_info in models_info:\n",
    "    model_info['model'].config.pad_token_id = model_info['tokenizer'].eos_token_id\n",
    "    tokenizer = model_info['tokenizer']\n",
    "    if tokenizer.pad_token is None:\n",
    "        tokenizer.pad_token = tokenizer.eos_token\n",
    "        print(f\"Setting pad_token to eos_token for {model_info['name']}\")\n",
    "\n",
    "seen_env_ids = [\"BabyAI-GoTo-v0\", \"BabyAI-Pickup-v0\"]\n",
    "unseen_env_ids = [\"BabyAI-Open-v0\", \"BabyAI-PutNext-v0\", \"BabyAI-PickUpSeqGoTo-v0\"]\n"
   ]
  },
  {
   "cell_type": "code",
   "execution_count": 14,
   "metadata": {},
   "outputs": [
    {
     "name": "stdout",
     "output_type": "stream",
     "text": [
      "\n",
      "=== Evaluating baseline model (non-reasoning) on seen env BabyAI-GoTo-v0 with context 5 ===\n",
      "Evaluating llama-3.2-3b-baseline-non-reasoning on BabyAI-GoTo-v0 with 10 episodes (reasoning=False, num_dists=3)...\n",
      "1 2 3 4 5 6 7 8 9 10 \n",
      "\n",
      "=== Evaluating baseline model (reasoning) on seen env BabyAI-GoTo-v0 with context 5 ===\n",
      "Evaluating llama-3.2-3b-baseline-reasoning on BabyAI-GoTo-v0 with 10 episodes (reasoning=True, num_dists=3)...\n",
      "1 2 3 4 5 6 7 8 9 10 \n",
      "\n",
      "=== Evaluating baseline model (non-reasoning) on seen env BabyAI-Pickup-v0 with context 5 ===\n",
      "Evaluating llama-3.2-3b-baseline-non-reasoning on BabyAI-Pickup-v0 with 10 episodes (reasoning=False, num_dists=3)...\n",
      "1 2 3 4 5 6 7 8 9 10 \n",
      "\n",
      "=== Evaluating baseline model (reasoning) on seen env BabyAI-Pickup-v0 with context 5 ===\n",
      "Evaluating llama-3.2-3b-baseline-reasoning on BabyAI-Pickup-v0 with 10 episodes (reasoning=True, num_dists=3)...\n",
      "1 2 3 4 5 6 7 8 9 10 \n",
      "\n",
      "=== Evaluating baseline model (non-reasoning) on unseen env BabyAI-Open-v0 with context 5 ===\n",
      "Evaluating llama-3.2-3b-baseline-non-reasoning on BabyAI-Open-v0 with 10 episodes (reasoning=False, num_dists=3)...\n",
      "1 2 3 4 5 6 7 8 9 10 \n",
      "\n",
      "=== Evaluating baseline model (reasoning) on unseen env BabyAI-Open-v0 with context 5 ===\n",
      "Evaluating llama-3.2-3b-baseline-reasoning on BabyAI-Open-v0 with 10 episodes (reasoning=True, num_dists=3)...\n",
      "1 2 3 4 5 6 7 8 9 10 \n",
      "\n",
      "=== Evaluating baseline model (non-reasoning) on unseen env BabyAI-PutNext-v0 with context 5 ===\n",
      "Evaluating llama-3.2-3b-baseline-non-reasoning on BabyAI-PutNext-v0 with 10 episodes (reasoning=False, num_dists=3)...\n",
      "1 2 3 4 5 6 7 8 9 10 \n",
      "\n",
      "=== Evaluating baseline model (reasoning) on unseen env BabyAI-PutNext-v0 with context 5 ===\n",
      "Evaluating llama-3.2-3b-baseline-reasoning on BabyAI-PutNext-v0 with 10 episodes (reasoning=True, num_dists=3)...\n",
      "1 2 3 4 5 6 7 8 9 10 \n",
      "\n",
      "=== Evaluating baseline model (non-reasoning) on unseen env BabyAI-PickUpSeqGoTo-v0 with context 5 ===\n",
      "Evaluating llama-3.2-3b-baseline-non-reasoning on BabyAI-PickUpSeqGoTo-v0 with 10 episodes (reasoning=False, num_dists=3)...\n",
      "1 2 3 4 5 6 7 8 9 10 \n",
      "\n",
      "=== Evaluating baseline model (reasoning) on unseen env BabyAI-PickUpSeqGoTo-v0 with context 5 ===\n",
      "Evaluating llama-3.2-3b-baseline-reasoning on BabyAI-PickUpSeqGoTo-v0 with 10 episodes (reasoning=True, num_dists=3)...\n",
      "1 2 3 4 5 6 7 8 9 10 \n",
      "\n",
      "=== Evaluating llama-3.2-3b-trained-0 on seen env BabyAI-GoTo-v0 with context 5 ===\n",
      "Evaluating llama-3.2-3b-trained-0-reasoning on BabyAI-GoTo-v0 with 10 episodes (reasoning=True, num_dists=3)...\n",
      "1 2 3 4 5 6 7 8 9 10 \n",
      "Evaluating llama-3.2-3b-trained-0-non-reasoning on BabyAI-GoTo-v0 with 10 episodes (reasoning=False, num_dists=3)...\n",
      "1 2 3 4 5 6 7 8 9 10 \n",
      "\n",
      "=== Evaluating llama-3.2-3b-trained-0 on seen env BabyAI-Pickup-v0 with context 5 ===\n",
      "Evaluating llama-3.2-3b-trained-0-reasoning on BabyAI-Pickup-v0 with 10 episodes (reasoning=True, num_dists=3)...\n",
      "1 2 3 4 5 6 7 8 9 10 \n",
      "Evaluating llama-3.2-3b-trained-0-non-reasoning on BabyAI-Pickup-v0 with 10 episodes (reasoning=False, num_dists=3)...\n",
      "1 2 3 4 5 6 7 8 9 10 \n",
      "\n",
      "=== Evaluating llama-3.2-3b-trained-0 on unseen env BabyAI-Open-v0 with context 5 ===\n",
      "Evaluating llama-3.2-3b-trained-0-reasoning on BabyAI-Open-v0 with 10 episodes (reasoning=True, num_dists=3)...\n",
      "1 2 3 4 5 6 7 8 9 10 11 \n",
      "Evaluating llama-3.2-3b-trained-0-non-reasoning on BabyAI-Open-v0 with 10 episodes (reasoning=False, num_dists=3)...\n",
      "1 2 3 4 5 6 7 8 9 10 \n",
      "\n",
      "=== Evaluating llama-3.2-3b-trained-0 on unseen env BabyAI-PutNext-v0 with context 5 ===\n",
      "Evaluating llama-3.2-3b-trained-0-reasoning on BabyAI-PutNext-v0 with 10 episodes (reasoning=True, num_dists=3)...\n",
      "1 2 3 4 5 6 7 8 9 10 \n",
      "Evaluating llama-3.2-3b-trained-0-non-reasoning on BabyAI-PutNext-v0 with 10 episodes (reasoning=False, num_dists=3)...\n",
      "1 2 3 4 5 6 7 8 9 10 \n",
      "\n",
      "=== Evaluating llama-3.2-3b-trained-0 on unseen env BabyAI-PickUpSeqGoTo-v0 with context 5 ===\n",
      "Evaluating llama-3.2-3b-trained-0-reasoning on BabyAI-PickUpSeqGoTo-v0 with 10 episodes (reasoning=True, num_dists=3)...\n",
      "1 2 3 4 5 6 7 8 9 10 \n",
      "Evaluating llama-3.2-3b-trained-0-non-reasoning on BabyAI-PickUpSeqGoTo-v0 with 10 episodes (reasoning=False, num_dists=3)...\n",
      "1 2 3 4 5 6 7 8 9 10 \n"
     ]
    }
   ],
   "source": [
    "# Run evaluation with a single context window\n",
    "context_window = 5\n",
    "results, baseline_results = evaluate_models(\n",
    "    models_info=models_info,\n",
    "    seen_env_ids=seen_env_ids,\n",
    "    unseen_env_ids=unseen_env_ids,\n",
    "    context_window=context_window,\n",
    "    num_episodes=10,\n",
    "    num_dists=3,\n",
    ")"
   ]
  },
  {
   "cell_type": "code",
   "execution_count": 15,
   "metadata": {},
   "outputs": [
    {
     "data": {
      "text/html": [
       "<h1>Evaluation Summary</h1>"
      ],
      "text/plain": [
       "<IPython.core.display.HTML object>"
      ]
     },
     "metadata": {},
     "output_type": "display_data"
    },
    {
     "data": {
      "text/html": [
       "<h2>llama-3.2-3b-trained-0</h2>"
      ],
      "text/plain": [
       "<IPython.core.display.HTML object>"
      ]
     },
     "metadata": {},
     "output_type": "display_data"
    },
    {
     "data": {
      "text/html": [
       "<h3>Seen Environments</h3>"
      ],
      "text/plain": [
       "<IPython.core.display.HTML object>"
      ]
     },
     "metadata": {},
     "output_type": "display_data"
    },
    {
     "data": {
      "text/html": [
       "<h4>BabyAI-GoTo-v0</h4>"
      ],
      "text/plain": [
       "<IPython.core.display.HTML object>"
      ]
     },
     "metadata": {},
     "output_type": "display_data"
    },
    {
     "name": "stdout",
     "output_type": "stream",
     "text": [
      "llama-3.2-3b-trained-0 on BabyAI-GoTo-v0 (seen) with context 5:\n",
      "  reasoning:\n",
      "    success_rate: 0.6000 ± 0.5164\n",
      "    avg_reward: 0.5578 ± 0.4816\n",
      "    avg_steps: 5.4000 ± 2.9515\n",
      "    invalid_action_rate: 2.3000 ± 3.0930\n",
      "    avg_steps_to_success: 5.0000 ± 3.5777\n",
      "    avg_total_time: 11.5411 ± 0.0000\n",
      "    avg_generate_time: 1.1448 ± 0.0000\n",
      "  non_reasoning:\n",
      "    success_rate: 1.0000 ± 0.0000\n",
      "    avg_reward: 0.6822 ± 0.2272\n",
      "    avg_steps: 22.9000 ± 16.4077\n",
      "    invalid_action_rate: 0.3000 ± 0.6749\n",
      "    avg_steps_to_success: 22.9000 ± 16.4077\n",
      "    avg_total_time: 11.1377 ± 0.0000\n",
      "    avg_generate_time: 1.0862 ± 0.0000\n"
     ]
    },
    {
     "data": {
      "text/html": [
       "<h4>BabyAI-Pickup-v0</h4>"
      ],
      "text/plain": [
       "<IPython.core.display.HTML object>"
      ]
     },
     "metadata": {},
     "output_type": "display_data"
    },
    {
     "name": "stdout",
     "output_type": "stream",
     "text": [
      "llama-3.2-3b-trained-0 on BabyAI-Pickup-v0 (seen) with context 5:\n",
      "  reasoning:\n",
      "    success_rate: 0.2000 ± 0.4216\n",
      "    avg_reward: 0.1325 ± 0.2813\n",
      "    avg_steps: 17.5000 ± 13.0746\n",
      "    invalid_action_rate: 5.9000 ± 3.2472\n",
      "    avg_steps_to_success: 26.0000 ± 9.8995\n",
      "    avg_total_time: 43.8489 ± 0.0000\n",
      "    avg_generate_time: 4.3605 ± 0.0000\n",
      "  non_reasoning:\n",
      "    success_rate: 0.7000 ± 0.4830\n",
      "    avg_reward: 0.4314 ± 0.3545\n",
      "    avg_steps: 40.7000 ± 24.5223\n",
      "    invalid_action_rate: 2.4000 ± 5.4610\n",
      "    avg_steps_to_success: 30.7143 ± 22.6768\n",
      "    avg_total_time: 17.1615 ± 0.0000\n",
      "    avg_generate_time: 1.6755 ± 0.0000\n"
     ]
    },
    {
     "data": {
      "text/html": [
       "<h3>Unseen Environments</h3>"
      ],
      "text/plain": [
       "<IPython.core.display.HTML object>"
      ]
     },
     "metadata": {},
     "output_type": "display_data"
    },
    {
     "data": {
      "text/html": [
       "<h4>BabyAI-Open-v0</h4>"
      ],
      "text/plain": [
       "<IPython.core.display.HTML object>"
      ]
     },
     "metadata": {},
     "output_type": "display_data"
    },
    {
     "name": "stdout",
     "output_type": "stream",
     "text": [
      "llama-3.2-3b-trained-0 on BabyAI-Open-v0 (unseen) with context 5:\n",
      "  reasoning:\n",
      "    success_rate: 0.0000 ± 0.0000\n",
      "    avg_reward: 0.0000 ± 0.0000\n",
      "    avg_steps: 68.7273 ± 59.8967\n",
      "    invalid_action_rate: 4.9091 ± 4.4599\n",
      "    avg_steps_to_success: nan ± nan\n",
      "    avg_total_time: 113.9577 ± 0.0000\n",
      "    avg_generate_time: 10.3007 ± 0.0000\n",
      "  non_reasoning:\n",
      "    success_rate: 0.1000 ± 0.3162\n",
      "    avg_reward: 0.0452 ± 0.1428\n",
      "    avg_steps: 117.1000 ± 34.3364\n",
      "    invalid_action_rate: 4.2000 ± 3.8528\n",
      "    avg_steps_to_success: 78.0000 ± 0.0000\n",
      "    avg_total_time: 66.0037 ± 0.0000\n",
      "    avg_generate_time: 6.4973 ± 0.0000\n"
     ]
    },
    {
     "data": {
      "text/html": [
       "<h4>BabyAI-PutNext-v0</h4>"
      ],
      "text/plain": [
       "<IPython.core.display.HTML object>"
      ]
     },
     "metadata": {},
     "output_type": "display_data"
    },
    {
     "name": "stdout",
     "output_type": "stream",
     "text": [
      "llama-3.2-3b-trained-0 on BabyAI-PutNext-v0 (unseen) with context 5:\n",
      "  reasoning:\n",
      "    success_rate: 0.0000 ± 0.0000\n",
      "    avg_reward: 0.0000 ± 0.0000\n",
      "    avg_steps: 53.0000 ± 56.5135\n",
      "    invalid_action_rate: 7.0000 ± 5.1640\n",
      "    avg_steps_to_success: nan ± nan\n",
      "    avg_total_time: 105.9244 ± 0.0000\n",
      "    avg_generate_time: 10.5314 ± 0.0000\n",
      "  non_reasoning:\n",
      "    success_rate: 0.1000 ± 0.3162\n",
      "    avg_reward: 0.0290 ± 0.0917\n",
      "    avg_steps: 130.1000 ± 7.7953\n",
      "    invalid_action_rate: 4.8000 ± 3.6148\n",
      "    avg_steps_to_success: 110.0000 ± 0.0000\n",
      "    avg_total_time: 49.4958 ± 0.0000\n",
      "    avg_generate_time: 4.8447 ± 0.0000\n"
     ]
    },
    {
     "data": {
      "text/html": [
       "<h4>BabyAI-PickUpSeqGoTo-v0</h4>"
      ],
      "text/plain": [
       "<IPython.core.display.HTML object>"
      ]
     },
     "metadata": {},
     "output_type": "display_data"
    },
    {
     "name": "stdout",
     "output_type": "stream",
     "text": [
      "llama-3.2-3b-trained-0 on BabyAI-PickUpSeqGoTo-v0 (unseen) with context 5:\n",
      "  reasoning:\n",
      "    success_rate: 0.3000 ± 0.4830\n",
      "    avg_reward: 0.1959 ± 0.3285\n",
      "    avg_steps: 33.8000 ± 42.2237\n",
      "    invalid_action_rate: 4.1000 ± 1.9692\n",
      "    avg_steps_to_success: 51.3333 ± 29.4845\n",
      "    avg_total_time: 95.9276 ± 0.0000\n",
      "    avg_generate_time: 9.5372 ± 0.0000\n",
      "  non_reasoning:\n",
      "    success_rate: 0.1000 ± 0.3162\n",
      "    avg_reward: 0.0852 ± 0.2695\n",
      "    avg_steps: 119.6000 ± 34.3712\n",
      "    invalid_action_rate: 2.3000 ± 2.3594\n",
      "    avg_steps_to_success: 22.0000 ± 0.0000\n",
      "    avg_total_time: 51.1736 ± 0.0000\n",
      "    avg_generate_time: 5.0117 ± 0.0000\n"
     ]
    },
    {
     "data": {
      "text/html": [
       "<h2>Baseline Model</h2>"
      ],
      "text/plain": [
       "<IPython.core.display.HTML object>"
      ]
     },
     "metadata": {},
     "output_type": "display_data"
    },
    {
     "data": {
      "text/html": [
       "<h3>Seen Environments</h3>"
      ],
      "text/plain": [
       "<IPython.core.display.HTML object>"
      ]
     },
     "metadata": {},
     "output_type": "display_data"
    },
    {
     "data": {
      "text/html": [
       "<h4>BabyAI-GoTo-v0</h4>"
      ],
      "text/plain": [
       "<IPython.core.display.HTML object>"
      ]
     },
     "metadata": {},
     "output_type": "display_data"
    },
    {
     "name": "stdout",
     "output_type": "stream",
     "text": [
      "llama-3.2-3b-baseline on BabyAI-GoTo-v0 (seen) with context 5:\n",
      "  non_reasoning:\n",
      "    num_episodes: 10.0000\n",
      "    success_rate: 1.0000 ± 0.0000\n",
      "    avg_reward: 0.6766 ± 0.1840\n",
      "    avg_steps: 23.2000 ± 13.0537\n",
      "    invalid_action_rate: 0.2000 ± 0.4216\n",
      "    avg_steps_to_success: 23.2000 ± 13.0537\n",
      "    avg_total_time: 9.6639 ± 0.0000\n",
      "    avg_generate_time: 0.9414 ± 0.0000\n",
      "  reasoning:\n",
      "    num_episodes: 10.0000\n",
      "    success_rate: 0.4000 ± 0.5164\n",
      "    avg_reward: 0.2720 ± 0.3703\n",
      "    avg_steps: 31.1000 ± 20.5343\n",
      "    invalid_action_rate: 4.7000 ± 4.3982\n",
      "    avg_steps_to_success: 24.2500 ± 15.7771\n",
      "    avg_total_time: 47.6489 ± 0.0000\n",
      "    avg_generate_time: 4.7368 ± 0.0000\n"
     ]
    },
    {
     "data": {
      "text/html": [
       "<h4>BabyAI-Pickup-v0</h4>"
      ],
      "text/plain": [
       "<IPython.core.display.HTML object>"
      ]
     },
     "metadata": {},
     "output_type": "display_data"
    },
    {
     "name": "stdout",
     "output_type": "stream",
     "text": [
      "llama-3.2-3b-baseline on BabyAI-Pickup-v0 (seen) with context 5:\n",
      "  non_reasoning:\n",
      "    num_episodes: 10.0000\n",
      "    success_rate: 0.4000 ± 0.5164\n",
      "    avg_reward: 0.2383 ± 0.3595\n",
      "    avg_steps: 51.8000 ± 23.9435\n",
      "    invalid_action_rate: 1.9000 ± 4.0947\n",
      "    avg_steps_to_success: 29.0000 ± 22.8181\n",
      "    avg_total_time: 22.1155 ± 0.0000\n",
      "    avg_generate_time: 2.1621 ± 0.0000\n",
      "  reasoning:\n",
      "    num_episodes: 10.0000\n",
      "    success_rate: 0.3000 ± 0.4830\n",
      "    avg_reward: 0.2592 ± 0.4202\n",
      "    avg_steps: 22.5000 ± 23.3916\n",
      "    invalid_action_rate: 4.0000 ± 4.4222\n",
      "    avg_steps_to_success: 11.0000 ± 7.5498\n",
      "    avg_total_time: 46.4839 ± 0.0000\n",
      "    avg_generate_time: 4.6209 ± 0.0000\n"
     ]
    },
    {
     "data": {
      "text/html": [
       "<h3>Unseen Environments</h3>"
      ],
      "text/plain": [
       "<IPython.core.display.HTML object>"
      ]
     },
     "metadata": {},
     "output_type": "display_data"
    },
    {
     "data": {
      "text/html": [
       "<h4>BabyAI-Open-v0</h4>"
      ],
      "text/plain": [
       "<IPython.core.display.HTML object>"
      ]
     },
     "metadata": {},
     "output_type": "display_data"
    },
    {
     "name": "stdout",
     "output_type": "stream",
     "text": [
      "llama-3.2-3b-baseline on BabyAI-Open-v0 (unseen) with context 5:\n",
      "  non_reasoning:\n",
      "    num_episodes: 10.0000\n",
      "    success_rate: 0.3000 ± 0.4830\n",
      "    avg_reward: 0.1038 ± 0.1867\n",
      "    avg_steps: 123.5000 ± 22.9795\n",
      "    invalid_action_rate: 6.0000 ± 5.7927\n",
      "    avg_steps_to_success: 98.0000 ± 29.2062\n",
      "    avg_total_time: 48.6894 ± 0.0000\n",
      "    avg_generate_time: 4.7680 ± 0.0000\n",
      "  reasoning:\n",
      "    num_episodes: 10.0000\n",
      "    success_rate: 0.0000 ± 0.0000\n",
      "    avg_reward: 0.0000 ± 0.0000\n",
      "    avg_steps: 59.4000 ± 59.1518\n",
      "    invalid_action_rate: 6.3000 ± 2.5841\n",
      "    avg_steps_to_success: nan ± nan\n",
      "    avg_total_time: 100.1223 ± 0.0000\n",
      "    avg_generate_time: 9.9570 ± 0.0000\n"
     ]
    },
    {
     "data": {
      "text/html": [
       "<h4>BabyAI-PutNext-v0</h4>"
      ],
      "text/plain": [
       "<IPython.core.display.HTML object>"
      ]
     },
     "metadata": {},
     "output_type": "display_data"
    },
    {
     "name": "stdout",
     "output_type": "stream",
     "text": [
      "llama-3.2-3b-baseline on BabyAI-PutNext-v0 (unseen) with context 5:\n",
      "  non_reasoning:\n",
      "    num_episodes: 10.0000\n",
      "    success_rate: 0.3000 ± 0.4830\n",
      "    avg_reward: 0.1418 ± 0.2576\n",
      "    avg_steps: 113.4000 ± 31.4932\n",
      "    invalid_action_rate: 1.3000 ± 1.5670\n",
      "    avg_steps_to_success: 75.0000 ± 36.0000\n",
      "    avg_total_time: 49.9044 ± 0.0000\n",
      "    avg_generate_time: 4.8854 ± 0.0000\n",
      "  reasoning:\n",
      "    num_episodes: 10.0000\n",
      "    success_rate: 0.1000 ± 0.3162\n",
      "    avg_reward: 0.0409 ± 0.1295\n",
      "    avg_steps: 34.1000 ± 31.8380\n",
      "    invalid_action_rate: 6.6000 ± 2.2706\n",
      "    avg_steps_to_success: 86.0000 ± 0.0000\n",
      "    avg_total_time: 84.7607 ± 0.0000\n",
      "    avg_generate_time: 8.4288 ± 0.0000\n"
     ]
    },
    {
     "data": {
      "text/html": [
       "<h4>BabyAI-PickUpSeqGoTo-v0</h4>"
      ],
      "text/plain": [
       "<IPython.core.display.HTML object>"
      ]
     },
     "metadata": {},
     "output_type": "display_data"
    },
    {
     "name": "stdout",
     "output_type": "stream",
     "text": [
      "llama-3.2-3b-baseline on BabyAI-PickUpSeqGoTo-v0 (unseen) with context 5:\n",
      "  non_reasoning:\n",
      "    num_episodes: 10.0000\n",
      "    success_rate: 0.2000 ± 0.4216\n",
      "    avg_reward: 0.0826 ± 0.1741\n",
      "    avg_steps: 119.9000 ± 18.9529\n",
      "    invalid_action_rate: 0.8000 ± 1.0328\n",
      "    avg_steps_to_success: 84.0000 ± 1.4142\n",
      "    avg_total_time: 49.9530 ± 0.0000\n",
      "    avg_generate_time: 4.8891 ± 0.0000\n",
      "  reasoning:\n",
      "    num_episodes: 10.0000\n",
      "    success_rate: 0.1000 ± 0.3162\n",
      "    avg_reward: 0.0937 ± 0.2962\n",
      "    avg_steps: 69.9000 ± 58.2398\n",
      "    invalid_action_rate: 3.4000 ± 2.3664\n",
      "    avg_steps_to_success: 9.0000 ± 0.0000\n",
      "    avg_total_time: 98.3294 ± 0.0000\n",
      "    avg_generate_time: 9.7751 ± 0.0000\n"
     ]
    },
    {
     "data": {
      "text/html": [
       "<h2>Performance Comparisons</h2>"
      ],
      "text/plain": [
       "<IPython.core.display.HTML object>"
      ]
     },
     "metadata": {},
     "output_type": "display_data"
    },
    {
     "data": {
      "text/html": [
       "<h3>Model: llama-3.2-3b-trained-0</h3>"
      ],
      "text/plain": [
       "<IPython.core.display.HTML object>"
      ]
     },
     "metadata": {},
     "output_type": "display_data"
    },
    {
     "data": {
      "text/html": [
       "<h4>Seen Environments</h4>"
      ],
      "text/plain": [
       "<IPython.core.display.HTML object>"
      ]
     },
     "metadata": {},
     "output_type": "display_data"
    },
    {
     "data": {
      "image/png": "[encoded data removed]",
      "text/plain": [
       "<Figure size 1200x600 with 1 Axes>"
      ]
     },
     "metadata": {},
     "output_type": "display_data"
    },
    {
     "data": {
      "text/html": [
       "<h4>Unseen Environments</h4>"
      ],
      "text/plain": [
       "<IPython.core.display.HTML object>"
      ]
     },
     "metadata": {},
     "output_type": "display_data"
    },
    {
     "data": {
      "image/png": "[encoded data removed]",
      "text/plain": [
       "<Figure size 1200x600 with 1 Axes>"
      ]
     },
     "metadata": {},
     "output_type": "display_data"
    },
    {
     "data": {
      "text/html": [
       "<h2>Reasoning vs Non-Reasoning Improvement</h2>"
      ],
      "text/plain": [
       "<IPython.core.display.HTML object>"
      ]
     },
     "metadata": {},
     "output_type": "display_data"
    },
    {
     "ename": "TypeError",
     "evalue": "Data source must be a DataFrame or Mapping, not <class 'list'>.",
     "output_type": "error",
     "traceback": [
      "\u001b[0;31m---------------------------------------------------------------------------\u001b[0m",
      "\u001b[0;31mTypeError\u001b[0m                                 Traceback (most recent call last)",
      "Cell \u001b[0;32mIn[15], line 167\u001b[0m\n\u001b[1;32m    165\u001b[0m \u001b[38;5;66;03m# Create bar chart of improvements\u001b[39;00m\n\u001b[1;32m    166\u001b[0m plt\u001b[38;5;241m.\u001b[39mfigure(figsize\u001b[38;5;241m=\u001b[39m(\u001b[38;5;241m14\u001b[39m, \u001b[38;5;241m7\u001b[39m))\n\u001b[0;32m--> 167\u001b[0m ax \u001b[38;5;241m=\u001b[39m \u001b[43msns\u001b[49m\u001b[38;5;241;43m.\u001b[39;49m\u001b[43mbarplot\u001b[49m\u001b[43m(\u001b[49m\u001b[43mx\u001b[49m\u001b[38;5;241;43m=\u001b[39;49m\u001b[38;5;124;43m\"\u001b[39;49m\u001b[38;5;124;43mEnvironment\u001b[39;49m\u001b[38;5;124;43m\"\u001b[39;49m\u001b[43m,\u001b[49m\u001b[43m \u001b[49m\u001b[43my\u001b[49m\u001b[38;5;241;43m=\u001b[39;49m\u001b[38;5;124;43m\"\u001b[39;49m\u001b[38;5;124;43mImprovement\u001b[39;49m\u001b[38;5;124;43m\"\u001b[39;49m\u001b[43m,\u001b[49m\u001b[43m \u001b[49m\u001b[43mhue\u001b[49m\u001b[38;5;241;43m=\u001b[39;49m\u001b[38;5;124;43m\"\u001b[39;49m\u001b[38;5;124;43mModel\u001b[39;49m\u001b[38;5;124;43m\"\u001b[39;49m\u001b[43m,\u001b[49m\u001b[43m \u001b[49m\u001b[43mdata\u001b[49m\u001b[38;5;241;43m=\u001b[39;49m\u001b[43mimprovement_data\u001b[49m\u001b[43m)\u001b[49m\n\u001b[1;32m    168\u001b[0m plt\u001b[38;5;241m.\u001b[39maxhline(y\u001b[38;5;241m=\u001b[39m\u001b[38;5;241m0\u001b[39m, color\u001b[38;5;241m=\u001b[39m\u001b[38;5;124m'\u001b[39m\u001b[38;5;124mblack\u001b[39m\u001b[38;5;124m'\u001b[39m, linestyle\u001b[38;5;241m=\u001b[39m\u001b[38;5;124m'\u001b[39m\u001b[38;5;124m-\u001b[39m\u001b[38;5;124m'\u001b[39m, alpha\u001b[38;5;241m=\u001b[39m\u001b[38;5;241m0.3\u001b[39m)\n\u001b[1;32m    169\u001b[0m plt\u001b[38;5;241m.\u001b[39mtitle(\u001b[38;5;124m\"\u001b[39m\u001b[38;5;124mImprovement from Reasoning vs Non-Reasoning\u001b[39m\u001b[38;5;124m\"\u001b[39m)\n",
      "File \u001b[0;32m/workspace/rl-llm/.venv/lib/python3.10/site-packages/seaborn/categorical.py:2341\u001b[0m, in \u001b[0;36mbarplot\u001b[0;34m(data, x, y, hue, order, hue_order, estimator, errorbar, n_boot, seed, units, weights, orient, color, palette, saturation, fill, hue_norm, width, dodge, gap, log_scale, native_scale, formatter, legend, capsize, err_kws, ci, errcolor, errwidth, ax, **kwargs)\u001b[0m\n\u001b[1;32m   2338\u001b[0m \u001b[38;5;28;01mif\u001b[39;00m estimator \u001b[38;5;129;01mis\u001b[39;00m \u001b[38;5;28mlen\u001b[39m:\n\u001b[1;32m   2339\u001b[0m     estimator \u001b[38;5;241m=\u001b[39m \u001b[38;5;124m\"\u001b[39m\u001b[38;5;124msize\u001b[39m\u001b[38;5;124m\"\u001b[39m\n\u001b[0;32m-> 2341\u001b[0m p \u001b[38;5;241m=\u001b[39m \u001b[43m_CategoricalAggPlotter\u001b[49m\u001b[43m(\u001b[49m\n\u001b[1;32m   2342\u001b[0m \u001b[43m    \u001b[49m\u001b[43mdata\u001b[49m\u001b[38;5;241;43m=\u001b[39;49m\u001b[43mdata\u001b[49m\u001b[43m,\u001b[49m\n\u001b[1;32m   2343\u001b[0m \u001b[43m    \u001b[49m\u001b[43mvariables\u001b[49m\u001b[38;5;241;43m=\u001b[39;49m\u001b[38;5;28;43mdict\u001b[39;49m\u001b[43m(\u001b[49m\u001b[43mx\u001b[49m\u001b[38;5;241;43m=\u001b[39;49m\u001b[43mx\u001b[49m\u001b[43m,\u001b[49m\u001b[43m \u001b[49m\u001b[43my\u001b[49m\u001b[38;5;241;43m=\u001b[39;49m\u001b[43my\u001b[49m\u001b[43m,\u001b[49m\u001b[43m \u001b[49m\u001b[43mhue\u001b[49m\u001b[38;5;241;43m=\u001b[39;49m\u001b[43mhue\u001b[49m\u001b[43m,\u001b[49m\u001b[43m \u001b[49m\u001b[43munits\u001b[49m\u001b[38;5;241;43m=\u001b[39;49m\u001b[43munits\u001b[49m\u001b[43m,\u001b[49m\u001b[43m \u001b[49m\u001b[43mweight\u001b[49m\u001b[38;5;241;43m=\u001b[39;49m\u001b[43mweights\u001b[49m\u001b[43m)\u001b[49m\u001b[43m,\u001b[49m\n\u001b[1;32m   2344\u001b[0m \u001b[43m    \u001b[49m\u001b[43morder\u001b[49m\u001b[38;5;241;43m=\u001b[39;49m\u001b[43morder\u001b[49m\u001b[43m,\u001b[49m\n\u001b[1;32m   2345\u001b[0m \u001b[43m    \u001b[49m\u001b[43morient\u001b[49m\u001b[38;5;241;43m=\u001b[39;49m\u001b[43morient\u001b[49m\u001b[43m,\u001b[49m\n\u001b[1;32m   2346\u001b[0m \u001b[43m    \u001b[49m\u001b[43mcolor\u001b[49m\u001b[38;5;241;43m=\u001b[39;49m\u001b[43mcolor\u001b[49m\u001b[43m,\u001b[49m\n\u001b[1;32m   2347\u001b[0m \u001b[43m    \u001b[49m\u001b[43mlegend\u001b[49m\u001b[38;5;241;43m=\u001b[39;49m\u001b[43mlegend\u001b[49m\u001b[43m,\u001b[49m\n\u001b[1;32m   2348\u001b[0m \u001b[43m\u001b[49m\u001b[43m)\u001b[49m\n\u001b[1;32m   2350\u001b[0m \u001b[38;5;28;01mif\u001b[39;00m ax \u001b[38;5;129;01mis\u001b[39;00m \u001b[38;5;28;01mNone\u001b[39;00m:\n\u001b[1;32m   2351\u001b[0m     ax \u001b[38;5;241m=\u001b[39m plt\u001b[38;5;241m.\u001b[39mgca()\n",
      "File \u001b[0;32m/workspace/rl-llm/.venv/lib/python3.10/site-packages/seaborn/categorical.py:67\u001b[0m, in \u001b[0;36m_CategoricalPlotter.__init__\u001b[0;34m(self, data, variables, order, orient, require_numeric, color, legend)\u001b[0m\n\u001b[1;32m     56\u001b[0m \u001b[38;5;28;01mdef\u001b[39;00m\u001b[38;5;250m \u001b[39m\u001b[38;5;21m__init__\u001b[39m(\n\u001b[1;32m     57\u001b[0m     \u001b[38;5;28mself\u001b[39m,\n\u001b[1;32m     58\u001b[0m     data\u001b[38;5;241m=\u001b[39m\u001b[38;5;28;01mNone\u001b[39;00m,\n\u001b[0;32m   (...)\u001b[0m\n\u001b[1;32m     64\u001b[0m     legend\u001b[38;5;241m=\u001b[39m\u001b[38;5;124m\"\u001b[39m\u001b[38;5;124mauto\u001b[39m\u001b[38;5;124m\"\u001b[39m,\n\u001b[1;32m     65\u001b[0m ):\n\u001b[0;32m---> 67\u001b[0m     \u001b[38;5;28;43msuper\u001b[39;49m\u001b[43m(\u001b[49m\u001b[43m)\u001b[49m\u001b[38;5;241;43m.\u001b[39;49m\u001b[38;5;21;43m__init__\u001b[39;49m\u001b[43m(\u001b[49m\u001b[43mdata\u001b[49m\u001b[38;5;241;43m=\u001b[39;49m\u001b[43mdata\u001b[49m\u001b[43m,\u001b[49m\u001b[43m \u001b[49m\u001b[43mvariables\u001b[49m\u001b[38;5;241;43m=\u001b[39;49m\u001b[43mvariables\u001b[49m\u001b[43m)\u001b[49m\n\u001b[1;32m     69\u001b[0m     \u001b[38;5;66;03m# This method takes care of some bookkeeping that is necessary because the\u001b[39;00m\n\u001b[1;32m     70\u001b[0m     \u001b[38;5;66;03m# original categorical plots (prior to the 2021 refactor) had some rules that\u001b[39;00m\n\u001b[1;32m     71\u001b[0m     \u001b[38;5;66;03m# don't fit exactly into VectorPlotter logic. It may be wise to have a second\u001b[39;00m\n\u001b[0;32m   (...)\u001b[0m\n\u001b[1;32m     76\u001b[0m     \u001b[38;5;66;03m# default VectorPlotter rules. If we do decide to make orient part of the\u001b[39;00m\n\u001b[1;32m     77\u001b[0m     \u001b[38;5;66;03m# _base variable assignment, we'll want to figure out how to express that.\u001b[39;00m\n\u001b[1;32m     78\u001b[0m     \u001b[38;5;28;01mif\u001b[39;00m \u001b[38;5;28mself\u001b[39m\u001b[38;5;241m.\u001b[39minput_format \u001b[38;5;241m==\u001b[39m \u001b[38;5;124m\"\u001b[39m\u001b[38;5;124mwide\u001b[39m\u001b[38;5;124m\"\u001b[39m \u001b[38;5;129;01mand\u001b[39;00m orient \u001b[38;5;129;01min\u001b[39;00m [\u001b[38;5;124m\"\u001b[39m\u001b[38;5;124mh\u001b[39m\u001b[38;5;124m\"\u001b[39m, \u001b[38;5;124m\"\u001b[39m\u001b[38;5;124my\u001b[39m\u001b[38;5;124m\"\u001b[39m]:\n",
      "File \u001b[0;32m/workspace/rl-llm/.venv/lib/python3.10/site-packages/seaborn/_base.py:634\u001b[0m, in \u001b[0;36mVectorPlotter.__init__\u001b[0;34m(self, data, variables)\u001b[0m\n\u001b[1;32m    629\u001b[0m \u001b[38;5;66;03m# var_ordered is relevant only for categorical axis variables, and may\u001b[39;00m\n\u001b[1;32m    630\u001b[0m \u001b[38;5;66;03m# be better handled by an internal axis information object that tracks\u001b[39;00m\n\u001b[1;32m    631\u001b[0m \u001b[38;5;66;03m# such information and is set up by the scale_* methods. The analogous\u001b[39;00m\n\u001b[1;32m    632\u001b[0m \u001b[38;5;66;03m# information for numeric axes would be information about log scales.\u001b[39;00m\n\u001b[1;32m    633\u001b[0m \u001b[38;5;28mself\u001b[39m\u001b[38;5;241m.\u001b[39m_var_ordered \u001b[38;5;241m=\u001b[39m {\u001b[38;5;124m\"\u001b[39m\u001b[38;5;124mx\u001b[39m\u001b[38;5;124m\"\u001b[39m: \u001b[38;5;28;01mFalse\u001b[39;00m, \u001b[38;5;124m\"\u001b[39m\u001b[38;5;124my\u001b[39m\u001b[38;5;124m\"\u001b[39m: \u001b[38;5;28;01mFalse\u001b[39;00m}  \u001b[38;5;66;03m# alt., used DefaultDict\u001b[39;00m\n\u001b[0;32m--> 634\u001b[0m \u001b[38;5;28;43mself\u001b[39;49m\u001b[38;5;241;43m.\u001b[39;49m\u001b[43massign_variables\u001b[49m\u001b[43m(\u001b[49m\u001b[43mdata\u001b[49m\u001b[43m,\u001b[49m\u001b[43m \u001b[49m\u001b[43mvariables\u001b[49m\u001b[43m)\u001b[49m\n\u001b[1;32m    636\u001b[0m \u001b[38;5;66;03m# TODO Lots of tests assume that these are called to initialize the\u001b[39;00m\n\u001b[1;32m    637\u001b[0m \u001b[38;5;66;03m# mappings to default values on class initialization. I'd prefer to\u001b[39;00m\n\u001b[1;32m    638\u001b[0m \u001b[38;5;66;03m# move away from that and only have a mapping when explicitly called.\u001b[39;00m\n\u001b[1;32m    639\u001b[0m \u001b[38;5;28;01mfor\u001b[39;00m var \u001b[38;5;129;01min\u001b[39;00m [\u001b[38;5;124m\"\u001b[39m\u001b[38;5;124mhue\u001b[39m\u001b[38;5;124m\"\u001b[39m, \u001b[38;5;124m\"\u001b[39m\u001b[38;5;124msize\u001b[39m\u001b[38;5;124m\"\u001b[39m, \u001b[38;5;124m\"\u001b[39m\u001b[38;5;124mstyle\u001b[39m\u001b[38;5;124m\"\u001b[39m]:\n",
      "File \u001b[0;32m/workspace/rl-llm/.venv/lib/python3.10/site-packages/seaborn/_base.py:679\u001b[0m, in \u001b[0;36mVectorPlotter.assign_variables\u001b[0;34m(self, data, variables)\u001b[0m\n\u001b[1;32m    674\u001b[0m \u001b[38;5;28;01melse\u001b[39;00m:\n\u001b[1;32m    675\u001b[0m     \u001b[38;5;66;03m# When dealing with long-form input, use the newer PlotData\u001b[39;00m\n\u001b[1;32m    676\u001b[0m     \u001b[38;5;66;03m# object (internal but introduced for the objects interface)\u001b[39;00m\n\u001b[1;32m    677\u001b[0m     \u001b[38;5;66;03m# to centralize / standardize data consumption logic.\u001b[39;00m\n\u001b[1;32m    678\u001b[0m     \u001b[38;5;28mself\u001b[39m\u001b[38;5;241m.\u001b[39minput_format \u001b[38;5;241m=\u001b[39m \u001b[38;5;124m\"\u001b[39m\u001b[38;5;124mlong\u001b[39m\u001b[38;5;124m\"\u001b[39m\n\u001b[0;32m--> 679\u001b[0m     plot_data \u001b[38;5;241m=\u001b[39m \u001b[43mPlotData\u001b[49m\u001b[43m(\u001b[49m\u001b[43mdata\u001b[49m\u001b[43m,\u001b[49m\u001b[43m \u001b[49m\u001b[43mvariables\u001b[49m\u001b[43m)\u001b[49m\n\u001b[1;32m    680\u001b[0m     frame \u001b[38;5;241m=\u001b[39m plot_data\u001b[38;5;241m.\u001b[39mframe\n\u001b[1;32m    681\u001b[0m     names \u001b[38;5;241m=\u001b[39m plot_data\u001b[38;5;241m.\u001b[39mnames\n",
      "File \u001b[0;32m/workspace/rl-llm/.venv/lib/python3.10/site-packages/seaborn/_core/data.py:57\u001b[0m, in \u001b[0;36mPlotData.__init__\u001b[0;34m(self, data, variables)\u001b[0m\n\u001b[1;32m     51\u001b[0m \u001b[38;5;28;01mdef\u001b[39;00m\u001b[38;5;250m \u001b[39m\u001b[38;5;21m__init__\u001b[39m(\n\u001b[1;32m     52\u001b[0m     \u001b[38;5;28mself\u001b[39m,\n\u001b[1;32m     53\u001b[0m     data: DataSource,\n\u001b[1;32m     54\u001b[0m     variables: \u001b[38;5;28mdict\u001b[39m[\u001b[38;5;28mstr\u001b[39m, VariableSpec],\n\u001b[1;32m     55\u001b[0m ):\n\u001b[0;32m---> 57\u001b[0m     data \u001b[38;5;241m=\u001b[39m \u001b[43mhandle_data_source\u001b[49m\u001b[43m(\u001b[49m\u001b[43mdata\u001b[49m\u001b[43m)\u001b[49m\n\u001b[1;32m     58\u001b[0m     frame, names, ids \u001b[38;5;241m=\u001b[39m \u001b[38;5;28mself\u001b[39m\u001b[38;5;241m.\u001b[39m_assign_variables(data, variables)\n\u001b[1;32m     60\u001b[0m     \u001b[38;5;28mself\u001b[39m\u001b[38;5;241m.\u001b[39mframe \u001b[38;5;241m=\u001b[39m frame\n",
      "File \u001b[0;32m/workspace/rl-llm/.venv/lib/python3.10/site-packages/seaborn/_core/data.py:278\u001b[0m, in \u001b[0;36mhandle_data_source\u001b[0;34m(data)\u001b[0m\n\u001b[1;32m    276\u001b[0m \u001b[38;5;28;01melif\u001b[39;00m data \u001b[38;5;129;01mis\u001b[39;00m \u001b[38;5;129;01mnot\u001b[39;00m \u001b[38;5;28;01mNone\u001b[39;00m \u001b[38;5;129;01mand\u001b[39;00m \u001b[38;5;129;01mnot\u001b[39;00m \u001b[38;5;28misinstance\u001b[39m(data, Mapping):\n\u001b[1;32m    277\u001b[0m     err \u001b[38;5;241m=\u001b[39m \u001b[38;5;124mf\u001b[39m\u001b[38;5;124m\"\u001b[39m\u001b[38;5;124mData source must be a DataFrame or Mapping, not \u001b[39m\u001b[38;5;132;01m{\u001b[39;00m\u001b[38;5;28mtype\u001b[39m(data)\u001b[38;5;132;01m!r}\u001b[39;00m\u001b[38;5;124m.\u001b[39m\u001b[38;5;124m\"\u001b[39m\n\u001b[0;32m--> 278\u001b[0m     \u001b[38;5;28;01mraise\u001b[39;00m \u001b[38;5;167;01mTypeError\u001b[39;00m(err)\n\u001b[1;32m    280\u001b[0m \u001b[38;5;28;01mreturn\u001b[39;00m data\n",
      "\u001b[0;31mTypeError\u001b[0m: Data source must be a DataFrame or Mapping, not <class 'list'>."
     ]
    },
    {
     "data": {
      "text/plain": [
       "<Figure size 1400x700 with 0 Axes>"
      ]
     },
     "metadata": {},
     "output_type": "display_data"
    }
   ],
   "source": [
    "# Print summary statistics\n",
    "\n",
    "# Display header\n",
    "display(HTML(\"<h1>Evaluation Summary</h1>\"))\n",
    "\n",
    "# Print trained model results directly in notebook\n",
    "for model_name, env_types in results.items():\n",
    "    display(HTML(f\"<h2>{model_name}</h2>\"))\n",
    "    \n",
    "    for env_type, env_results in env_types.items():\n",
    "        display(HTML(f\"<h3>{env_type.capitalize()} Environments</h3>\"))\n",
    "        \n",
    "        for env_id, context_results in env_results.items():\n",
    "            display(HTML(f\"<h4>{env_id}</h4>\"))\n",
    "            \n",
    "            for cw, metrics in context_results.items():\n",
    "                print(f\"{model_name} on {env_id} ({env_type}) with context {cw}:\")\n",
    "                \n",
    "                for metric_type, metric_values in metrics.items():\n",
    "                    print(f\"  {metric_type}:\")\n",
    "                    \n",
    "                    for metric_name, value in metric_values.items():\n",
    "                        std_key = f\"{metric_name}_std\"\n",
    "                        if std_key in metric_values and not metric_name.endswith(\"_std\"):\n",
    "                            std_value = metric_values[std_key]\n",
    "                            print(f\"    {metric_name}: {value:.4f} ± {std_value:.4f}\")\n",
    "\n",
    "# Print baseline results\n",
    "display(HTML(\"<h2>Baseline Model</h2>\"))\n",
    "\n",
    "for env_type in [\"seen\", \"unseen\"]:\n",
    "    display(HTML(f\"<h3>{env_type.capitalize()} Environments</h3>\"))\n",
    "    \n",
    "    env_ids = seen_env_ids if env_type == \"seen\" else unseen_env_ids\n",
    "    for env_id in env_ids:\n",
    "        display(HTML(f\"<h4>{env_id}</h4>\"))\n",
    "        \n",
    "        print(f\"llama-3.2-3b-baseline on {env_id} ({env_type}) with context {context_window}:\")\n",
    "        \n",
    "        for metric_type in [\"non_reasoning\", \"reasoning\"]:\n",
    "            print(f\"  {metric_type}:\")\n",
    "            \n",
    "            metric_values = baseline_results[env_type][env_id][context_window][metric_type]\n",
    "            for metric_name, value in metric_values.items():\n",
    "                if metric_name.endswith(\"_std\"):\n",
    "                    continue\n",
    "                    \n",
    "                std_key = f\"{metric_name}_std\"\n",
    "                if std_key in metric_values:\n",
    "                    std_value = metric_values[std_key]\n",
    "                    print(f\"    {metric_name}: {value:.4f} ± {std_value:.4f}\")\n",
    "                else:\n",
    "                    print(f\"    {metric_name}: {value:.4f}\")\n",
    "\n",
    "# Display comparison plots\n",
    "display(HTML(\"<h2>Performance Comparisons</h2>\"))\n",
    "\n",
    "for model_name, env_types in results.items():\n",
    "    display(HTML(f\"<h3>Model: {model_name}</h3>\"))\n",
    "    \n",
    "    # Seen environments\n",
    "    display(HTML(\"<h4>Seen Environments</h4>\"))\n",
    "    \n",
    "    seen_baseline_non_reasoning = {env_id: baseline_results[\"seen\"][env_id][context_window][\"non_reasoning\"][\"success_rate\"] for env_id in seen_env_ids}\n",
    "    seen_baseline_reasoning = {env_id: baseline_results[\"seen\"][env_id][context_window][\"reasoning\"][\"success_rate\"] for env_id in seen_env_ids}\n",
    "    seen_reasoning = {env_id: results[model_name][\"seen\"][env_id][context_window][\"reasoning\"][\"success_rate\"] for env_id in seen_env_ids}\n",
    "    seen_non_reasoning = {env_id: results[model_name][\"seen\"][env_id][context_window][\"non_reasoning\"][\"success_rate\"] for env_id in seen_env_ids}\n",
    "    \n",
    "    fig, ax = plt.subplots(figsize=(12, 6))\n",
    "    n_envs = len(seen_env_ids)\n",
    "    bar_width = 0.2\n",
    "    index = np.arange(n_envs)\n",
    "    \n",
    "    ax.bar(index - bar_width * 1.5, [seen_baseline_non_reasoning[env_id] for env_id in seen_env_ids], \n",
    "           bar_width, label=\"Baseline (Non-Reasoning)\", color='red', alpha=0.7)\n",
    "    ax.bar(index - bar_width * 0.5, [seen_baseline_reasoning[env_id] for env_id in seen_env_ids], \n",
    "           bar_width, label=\"Baseline (Reasoning)\", color='orange', alpha=0.7)\n",
    "    ax.bar(index + bar_width * 0.5, [seen_reasoning[env_id] for env_id in seen_env_ids], \n",
    "           bar_width, label=\"Reasoning (Trained)\", color='blue', alpha=0.7)\n",
    "    ax.bar(index + bar_width * 1.5, [seen_non_reasoning[env_id] for env_id in seen_env_ids], \n",
    "           bar_width, label=\"Non-Reasoning (Trained)\", color='green', alpha=0.7)\n",
    "    \n",
    "    ax.set_xlabel(\"Environments\", fontsize=12)\n",
    "    ax.set_ylabel(\"Success Rate\", fontsize=12)\n",
    "    ax.set_title(f\"Model Performance Comparison (Context Window: {context_window}, Seen Environments)\", fontsize=14)\n",
    "    ax.set_xticks(index)\n",
    "    ax.set_xticklabels(seen_env_ids, rotation=45, ha='right')\n",
    "    ax.set_ylim(0, 1)\n",
    "    ax.legend()\n",
    "    ax.grid(True, linestyle='--', alpha=0.7)\n",
    "    \n",
    "    plt.tight_layout()\n",
    "    plt.show()\n",
    "    \n",
    "    # Unseen environments\n",
    "    display(HTML(\"<h4>Unseen Environments</h4>\"))\n",
    "    \n",
    "    unseen_baseline_non_reasoning = {env_id: baseline_results[\"unseen\"][env_id][context_window][\"non_reasoning\"][\"success_rate\"] for env_id in unseen_env_ids}\n",
    "    unseen_baseline_reasoning = {env_id: baseline_results[\"unseen\"][env_id][context_window][\"reasoning\"][\"success_rate\"] for env_id in unseen_env_ids}\n",
    "    unseen_reasoning = {env_id: results[model_name][\"unseen\"][env_id][context_window][\"reasoning\"][\"success_rate\"] for env_id in unseen_env_ids}\n",
    "    unseen_non_reasoning = {env_id: results[model_name][\"unseen\"][env_id][context_window][\"non_reasoning\"][\"success_rate\"] for env_id in unseen_env_ids}\n",
    "    \n",
    "    fig, ax = plt.subplots(figsize=(12, 6))\n",
    "    n_envs = len(unseen_env_ids)\n",
    "    bar_width = 0.2\n",
    "    index = np.arange(n_envs)\n",
    "    \n",
    "    ax.bar(index - bar_width * 1.5, [unseen_baseline_non_reasoning[env_id] for env_id in unseen_env_ids], \n",
    "           bar_width, label=\"Baseline (Non-Reasoning)\", color='red', alpha=0.7)\n",
    "    ax.bar(index - bar_width * 0.5, [unseen_baseline_reasoning[env_id] for env_id in unseen_env_ids], \n",
    "           bar_width, label=\"Baseline (Reasoning)\", color='orange', alpha=0.7)\n",
    "    ax.bar(index + bar_width * 0.5, [unseen_reasoning[env_id] for env_id in unseen_env_ids], \n",
    "           bar_width, label=\"Reasoning (Trained)\", color='blue', alpha=0.7)\n",
    "    ax.bar(index + bar_width * 1.5, [unseen_non_reasoning[env_id] for env_id in unseen_env_ids], \n",
    "           bar_width, label=\"Non-Reasoning (Trained)\", color='green', alpha=0.7)\n",
    "    \n",
    "    ax.set_xlabel(\"Environments\", fontsize=12)\n",
    "    ax.set_ylabel(\"Success Rate\", fontsize=12)\n",
    "    ax.set_title(f\"Model Performance Comparison (Context Window: {context_window}, Unseen Environments)\", fontsize=14)\n",
    "    ax.set_xticks(index)\n",
    "    ax.set_xticklabels(unseen_env_ids, rotation=45, ha='right')\n",
    "    ax.set_ylim(0, 1)\n",
    "    ax.legend()\n",
    "    ax.grid(True, linestyle='--', alpha=0.7)\n",
    "    \n",
    "    plt.tight_layout()\n",
    "    plt.show()\n",
    "\n",
    "# Reasoning vs non-reasoning improvement\n",
    "display(HTML(\"<h2>Reasoning vs Non-Reasoning Improvement</h2>\"))\n",
    "\n",
    "# Gather data for reasoning improvement visualization\n",
    "improvement_data = []\n",
    "\n",
    "for model_name, env_types in results.items():\n",
    "    for env_type in [\"seen\", \"unseen\"]:\n",
    "        env_ids = seen_env_ids if env_type == \"seen\" else unseen_env_ids\n",
    "        for env_id in env_ids:\n",
    "            reasoning_success = results[model_name][env_type][env_id][context_window][\"reasoning\"][\"success_rate\"]\n",
    "            non_reasoning_success = results[model_name][env_type][env_id][context_window][\"non_reasoning\"][\"success_rate\"]\n",
    "            improvement = reasoning_success - non_reasoning_success\n",
    "            \n",
    "            improvement_data.append({\n",
    "                \"Model\": model_name,\n",
    "                \"Environment\": env_id,\n",
    "                \"Environment Type\": env_type.capitalize(),\n",
    "                \"Improvement\": improvement\n",
    "            })\n",
    "\n",
    "# Same for baseline\n",
    "for env_type in [\"seen\", \"unseen\"]:\n",
    "    env_ids = seen_env_ids if env_type == \"seen\" else unseen_env_ids\n",
    "    for env_id in env_ids:\n",
    "        reasoning_success = baseline_results[env_type][env_id][context_window][\"reasoning\"][\"success_rate\"]\n",
    "        non_reasoning_success = baseline_results[env_type][env_id][context_window][\"non_reasoning\"][\"success_rate\"]\n",
    "        improvement = reasoning_success - non_reasoning_success\n",
    "        \n",
    "        improvement_data.append({\n",
    "            \"Model\": \"Baseline\",\n",
    "            \"Environment\": env_id,\n",
    "            \"Environment Type\": env_type.capitalize(),\n",
    "            \"Improvement\": improvement\n",
    "        })\n",
    "\n",
    "# Create bar chart of improvements\n",
    "plt.figure(figsize=(14, 7))\n",
    "ax = sns.barplot(x=\"Environment\", y=\"Improvement\", hue=\"Model\", data=improvement_data)\n",
    "plt.axhline(y=0, color='black', linestyle='-', alpha=0.3)\n",
    "plt.title(\"Improvement from Reasoning vs Non-Reasoning\")\n",
    "plt.xticks(rotation=45)\n",
    "plt.grid(axis='y', linestyle='--', alpha=0.7)\n",
    "plt.tight_layout()\n",
    "plt.show()\n"
   ]
  }
 ],
 "metadata": {
  "kernelspec": {
   "display_name": ".venv",
   "language": "python",
   "name": "python3"
  },
  "language_info": {
   "codemirror_mode": {
    "name": "ipython",
    "version": 3
   },
   "file_extension": ".py",
   "mimetype": "text/x-python",
   "name": "python",
   "nbconvert_exporter": "python",
   "pygments_lexer": "ipython3",
   "version": "3.10.12"
  }
 },
 "nbformat": 4,
 "nbformat_minor": 2
}
