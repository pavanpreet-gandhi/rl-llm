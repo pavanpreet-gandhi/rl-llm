{
 "cells": [
  {
   "cell_type": "code",
   "execution_count": null,
   "metadata": {},
   "outputs": [],
   "source": [
    "from typing import List, Tuple, Dict\n",
    "import matplotlib.pyplot as plt"
   ]
  },
  {
   "cell_type": "code",
   "execution_count": null,
   "metadata": {},
   "outputs": [],
   "source": [
    "def run_experiment(env_id: str, model_id: str, checkpoint: int, num_episodes=20) -> Dict:\n",
    "\n",
    "    # Create env\n",
    "\n",
    "    # Load model from hf (with the specific training checkpoint)\n",
    "\n",
    "    # run model on env for num_episodes (make sure env is resetting properly)\n",
    "\n",
    "    # Keep track of success rate, average reward, std of reward, etc.\n",
    "\n",
    "    # Also keep track of specific episodes where the model succeeds and fails\n",
    "\n",
    "    # Return a dict with the necessary stats\n",
    "\n",
    "    return\n",
    "\n",
    "\n",
    "def run_experiments():\n",
    "\n",
    "    # Run experiments on different envs and models\n",
    "    # 1. Seen envs on non-reasoning model (for different checkpoints)\n",
    "    # 2. Seen envs on reasoning model (for different checkpoints)\n",
    "    # 3. Unknown envs on non-reasoning model (for different checkpoints)\n",
    "    # 4. Unknown envs on reasoning model (for different checkpoints)\n",
    "\n",
    "    # Collect and return the stats from all the runs\n",
    "\n",
    "    return\n",
    "\n",
    "\n",
    "def generate_plots_for_report(stats: list[Dict]):\n",
    "\n",
    "    # Generate plots to include in the report from the above stats\n",
    "    # 1. Success rate on seen envs (for different checkpoints and reasoning vs non-reasoning)\n",
    "    # 2. Success rate on unknown envs (for different checkpoints and reasoning vs non-reasoning)\n",
    "    \n",
    "    return\n",
    "\n",
    "\n",
    "def evaluate_model_on_generic_benchmark(model_id):\n",
    "\n",
    "    # Load the model from hf\n",
    "\n",
    "    # Evaluate the model on generic NLP benchmark (e.g. HellaSwag)\n",
    "\n",
    "    return\n",
    "\n",
    "\n",
    "def run_benchmark_experiments(model_ids: List[str]):\n",
    "\n",
    "    # Evaluate all the models on the generic NLP benchmark\n",
    "    # (different checkpoints and reasoning vs non-reasoning)\n",
    "\n",
    "    # Plot results\n",
    "\n",
    "    return"
   ]
  }
 ],
 "metadata": {
  "kernelspec": {
   "display_name": "Python 3",
   "language": "python",
   "name": "python3"
  },
  "language_info": {
   "codemirror_mode": {
    "name": "ipython",
    "version": 3
   },
   "file_extension": ".py",
   "mimetype": "text/x-python",
   "name": "python",
   "nbconvert_exporter": "python",
   "pygments_lexer": "ipython3",
   "version": "3.9.21"
  }
 },
 "nbformat": 4,
 "nbformat_minor": 2
}
