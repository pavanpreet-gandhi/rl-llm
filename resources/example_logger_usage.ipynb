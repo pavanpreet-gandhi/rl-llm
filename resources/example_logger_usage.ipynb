{
 "cells": [
  {
   "cell_type": "code",
   "execution_count": 1,
   "metadata": {},
   "outputs": [],
   "source": [
    "import os\n",
    "os.chdir(\"..\") # to run from the root of the repo"
   ]
  },
  {
   "cell_type": "code",
   "execution_count": 2,
   "metadata": {},
   "outputs": [],
   "source": [
    "from utils.utils import create_logger"
   ]
  },
  {
   "cell_type": "code",
   "execution_count": 3,
   "metadata": {},
   "outputs": [
    {
     "name": "stderr",
     "output_type": "stream",
     "text": [
      "INFO: This is a test log message.\n",
      "WARNING: This is a test warning message.\n",
      "ERROR: This is a test error message.\n",
      "CRITICAL: This is a test critical message.\n",
      "INFO: Test complete.\n"
     ]
    }
   ],
   "source": [
    "logger = create_logger(\"test\")\n",
    "logger.info(\"This is a test log message.\")\n",
    "logger.warning(\"This is a test warning message.\")\n",
    "logger.error(\"This is a test error message.\")\n",
    "logger.debug(\"This is a test debug message.\")\n",
    "logger.critical(\"This is a test critical message.\")\n",
    "logger.info(\"Test complete.\")"
   ]
  }
 ],
 "metadata": {
  "kernelspec": {
   "display_name": "Python 3",
   "language": "python",
   "name": "python3"
  },
  "language_info": {
   "codemirror_mode": {
    "name": "ipython",
    "version": 3
   },
   "file_extension": ".py",
   "mimetype": "text/x-python",
   "name": "python",
   "nbconvert_exporter": "python",
   "pygments_lexer": "ipython3",
   "version": "3.11.11"
  }
 },
 "nbformat": 4,
 "nbformat_minor": 2
}
