{
 "cells": [
  {
   "cell_type": "code",
   "execution_count": 1,
   "metadata": {},
   "outputs": [],
   "source": [
    "import gym\n",
    "import babyai_text\n",
    "import warnings\n",
    "warnings.filterwarnings('ignore')"
   ]
  },
  {
   "cell_type": "code",
   "execution_count": 2,
   "metadata": {},
   "outputs": [],
   "source": [
    "env = gym.make(\"BabyAI-MixedTrainLocal-v0\")"
   ]
  },
  {
   "cell_type": "code",
   "execution_count": 3,
   "metadata": {},
   "outputs": [
    {
     "name": "stdout",
     "output_type": "stream",
     "text": [
      "Mission: open the green door\n",
      "Text observations: ['You see a wall 3 steps forward', 'You see a red box 3 steps left and 2 steps forward', 'You see a purple key 3 steps left and 1 step forward', 'You see a grey box 3 steps left', 'You see a green key 1 step right and 1 step forward', 'You see a blue ball 1 step right', 'You see a red ball 2 steps right and 1 step forward']\n"
     ]
    }
   ],
   "source": [
    "obs, info = env.reset()\n",
    "\n",
    "# the important part is the mission and text observations\n",
    "mission = obs['mission']\n",
    "text_obs = info['descriptions']\n",
    "print('Mission:', mission)\n",
    "print('Text observations:', text_obs)"
   ]
  },
  {
   "cell_type": "code",
   "execution_count": 4,
   "metadata": {},
   "outputs": [],
   "source": [
    "# these are the possible actions\n",
    "action_to_text = {\n",
    "    0: 'turn left',\n",
    "    1: 'turn right',\n",
    "    2: 'go forward',\n",
    "    3: 'pick up',\n",
    "    4: 'drop',\n",
    "    5: 'toggle',\n",
    "    6: 'done',\n",
    "}\n",
    "text_to_action = {v: k for k, v in action_to_text.items()}"
   ]
  },
  {
   "cell_type": "code",
   "execution_count": 5,
   "metadata": {},
   "outputs": [
    {
     "name": "stdout",
     "output_type": "stream",
     "text": [
      "Reward: 0\n",
      "Done: False\n",
      "Text observations: ['You see a wall 3 steps right', 'You see a purple ball 2 steps left and 3 steps forward', 'You see a grey box 3 steps forward', 'You see a purple key 1 step right and 3 steps forward', 'You see a red box 2 steps right and 3 steps forward']\n"
     ]
    }
   ],
   "source": [
    "obs, reward, done, info = env.step(0)\n",
    "print('Reward:', reward)\n",
    "print('Done:', done)\n",
    "print('Text observations:', info['descriptions'])"
   ]
  }
 ],
 "metadata": {
  "kernelspec": {
   "display_name": "Python 3",
   "language": "python",
   "name": "python3"
  },
  "language_info": {
   "codemirror_mode": {
    "name": "ipython",
    "version": 3
   },
   "file_extension": ".py",
   "mimetype": "text/x-python",
   "name": "python",
   "nbconvert_exporter": "python",
   "pygments_lexer": "ipython3",
   "version": "3.11.11"
  }
 },
 "nbformat": 4,
 "nbformat_minor": 2
}
