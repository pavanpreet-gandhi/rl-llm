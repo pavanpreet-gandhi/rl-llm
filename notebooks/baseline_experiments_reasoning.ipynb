{
 "cells": [
  {
   "cell_type": "code",
   "execution_count": 1,
   "metadata": {},
   "outputs": [
    {
     "name": "stdout",
     "output_type": "stream",
     "text": [
      "Changed directory to: /home/pavan/rl-llm\n",
      "Current directory: /home/pavan/rl-llm\n"
     ]
    }
   ],
   "source": [
    "import os\n",
    "\n",
    "# Check if we're in the root directory of rl-llm repo\n",
    "if not os.path.basename(os.getcwd()) == 'rl-llm':\n",
    "    # If we're in a subdirectory of rl-llm, find the root and cd to it\n",
    "    current_path = os.getcwd()\n",
    "    while os.path.basename(current_path) != 'rl-llm' and os.path.dirname(current_path) != current_path:\n",
    "        current_path = os.path.dirname(current_path)\n",
    "    \n",
    "    if os.path.basename(current_path) == 'rl-llm':\n",
    "        os.chdir(current_path)\n",
    "        print(f\"Changed directory to: {current_path}\")\n",
    "    else:\n",
    "        print(\"Not in rl-llm repository structure\")\n",
    "else:\n",
    "    print(\"Already in rl-llm root directory\")\n",
    "\n",
    "print(f\"Current directory: {os.getcwd()}\")"
   ]
  },
  {
   "cell_type": "code",
   "execution_count": 2,
   "metadata": {},
   "outputs": [
    {
     "name": "stderr",
     "output_type": "stream",
     "text": [
      "/home/pavan/rl-llm/.conda/lib/python3.9/site-packages/gym/envs/registration.py:498: UserWarning: \u001b[33mWARN: Overriding environment BabyAI-GoTo-v0 already in registry.\u001b[0m\n",
      "  logger.warn(f\"Overriding environment {new_spec.id} already in registry.\")\n",
      "/home/pavan/rl-llm/.conda/lib/python3.9/site-packages/gym/envs/registration.py:498: UserWarning: \u001b[33mWARN: Overriding environment BabyAI-Open-v0 already in registry.\u001b[0m\n",
      "  logger.warn(f\"Overriding environment {new_spec.id} already in registry.\")\n",
      "/home/pavan/rl-llm/.conda/lib/python3.9/site-packages/gym/envs/registration.py:498: UserWarning: \u001b[33mWARN: Overriding environment BabyAI-Pickup-v0 already in registry.\u001b[0m\n",
      "  logger.warn(f\"Overriding environment {new_spec.id} already in registry.\")\n",
      "/home/pavan/rl-llm/.conda/lib/python3.9/site-packages/gym/envs/registration.py:498: UserWarning: \u001b[33mWARN: Overriding environment BabyAI-PutNext-v0 already in registry.\u001b[0m\n",
      "  logger.warn(f\"Overriding environment {new_spec.id} already in registry.\")\n"
     ]
    }
   ],
   "source": [
    "from src import EnvManager, sample_episodes\n",
    "import time\n",
    "import matplotlib.pyplot as plt\n",
    "import torch\n",
    "from transformers import AutoModelForCausalLM, AutoTokenizer\n",
    "from peft import PeftModel, PeftConfig, get_peft_model\n",
    "from trl import AutoModelForCausalLMWithValueHead"
   ]
  },
  {
   "cell_type": "code",
   "execution_count": 3,
   "metadata": {},
   "outputs": [],
   "source": [
    "model_id = \"pavanpreet-gandhi/babyai-classical-ppo-prefinal-experiments-2025-04-11_13-38-03\""
   ]
  },
  {
   "cell_type": "code",
   "execution_count": 4,
   "metadata": {},
   "outputs": [],
   "source": [
    "tokenizer = AutoTokenizer.from_pretrained(model_id, padding_side='left')\n",
    "if tokenizer.pad_token is None:\n",
    "    tokenizer.pad_token = tokenizer.eos_token"
   ]
  },
  {
   "cell_type": "code",
   "execution_count": 5,
   "metadata": {},
   "outputs": [
    {
     "name": "stdout",
     "output_type": "stream",
     "text": [
      "Base model: meta-llama/Llama-3.2-3B-Instruct\n",
      "Loading with PEFT adapters from: pavanpreet-gandhi/babyai-classical-ppo-prefinal-experiments-2025-04-11_13-38-03\n"
     ]
    },
    {
     "data": {
      "application/vnd.jupyter.widget-view+json": {
       "model_id": "eb99b168a67b46e09f093a4d807d6fa3",
       "version_major": 2,
       "version_minor": 0
      },
      "text/plain": [
       "Loading checkpoint shards:   0%|          | 0/2 [00:00<?, ?it/s]"
      ]
     },
     "metadata": {},
     "output_type": "display_data"
    },
    {
     "name": "stderr",
     "output_type": "stream",
     "text": [
      "Some parameters are on the meta device because they were offloaded to the disk and cpu.\n",
      "WARNING:root:A <class 'transformers.models.llama.modeling_llama.LlamaForCausalLM'> model is loaded from 'meta-llama/Llama-3.2-3B-Instruct', and no v_head weight is found. This IS expected if you are not resuming PPO training.\n"
     ]
    },
    {
     "ename": "ValueError",
     "evalue": "The model is offloaded on CPU or disk - CPU & disk offloading is not supported for ValueHead models.",
     "output_type": "error",
     "traceback": [
      "\u001b[0;31m---------------------------------------------------------------------------\u001b[0m",
      "\u001b[0;31mValueError\u001b[0m                                Traceback (most recent call last)",
      "Cell \u001b[0;32mIn[5], line 45\u001b[0m\n\u001b[1;32m     43\u001b[0m model_id \u001b[38;5;241m=\u001b[39m \u001b[38;5;124m\"\u001b[39m\u001b[38;5;124mpavanpreet-gandhi/babyai-classical-ppo-prefinal-experiments-2025-04-11_13-38-03\u001b[39m\u001b[38;5;124m\"\u001b[39m\n\u001b[1;32m     44\u001b[0m device \u001b[38;5;241m=\u001b[39m torch\u001b[38;5;241m.\u001b[39mdevice(\u001b[38;5;124m\"\u001b[39m\u001b[38;5;124mcuda\u001b[39m\u001b[38;5;124m\"\u001b[39m \u001b[38;5;28;01mif\u001b[39;00m torch\u001b[38;5;241m.\u001b[39mcuda\u001b[38;5;241m.\u001b[39mis_available() \u001b[38;5;28;01melse\u001b[39;00m \u001b[38;5;124m\"\u001b[39m\u001b[38;5;124mcpu\u001b[39m\u001b[38;5;124m\"\u001b[39m)\n\u001b[0;32m---> 45\u001b[0m model, tokenizer \u001b[38;5;241m=\u001b[39m \u001b[43mload_model_with_peft_and_vhead\u001b[49m\u001b[43m(\u001b[49m\u001b[43mmodel_id\u001b[49m\u001b[43m,\u001b[49m\u001b[43m \u001b[49m\u001b[43mdevice\u001b[49m\u001b[43m)\u001b[49m\n\u001b[1;32m     47\u001b[0m \u001b[38;5;66;03m# Test the model with a simple query\u001b[39;00m\n\u001b[1;32m     48\u001b[0m prompt \u001b[38;5;241m=\u001b[39m \u001b[38;5;124m\"\u001b[39m\u001b[38;5;124mYou are in a room with a key. The instruction is to: pick up the key\u001b[39m\u001b[38;5;124m\"\u001b[39m\n",
      "Cell \u001b[0;32mIn[5], line 32\u001b[0m, in \u001b[0;36mload_model_with_peft_and_vhead\u001b[0;34m(model_id, device)\u001b[0m\n\u001b[1;32m     29\u001b[0m \u001b[38;5;28mprint\u001b[39m(\u001b[38;5;124mf\u001b[39m\u001b[38;5;124m\"\u001b[39m\u001b[38;5;124mLoading with PEFT adapters from: \u001b[39m\u001b[38;5;132;01m{\u001b[39;00mmodel_id\u001b[38;5;132;01m}\u001b[39;00m\u001b[38;5;124m\"\u001b[39m)\n\u001b[1;32m     31\u001b[0m \u001b[38;5;66;03m# Initialize model with value head from the base model\u001b[39;00m\n\u001b[0;32m---> 32\u001b[0m model \u001b[38;5;241m=\u001b[39m \u001b[43mAutoModelForCausalLMWithValueHead\u001b[49m\u001b[38;5;241;43m.\u001b[39;49m\u001b[43mfrom_pretrained\u001b[49m\u001b[43m(\u001b[49m\n\u001b[1;32m     33\u001b[0m \u001b[43m    \u001b[49m\u001b[43mbase_model_id\u001b[49m\u001b[43m,\u001b[49m\n\u001b[1;32m     34\u001b[0m \u001b[43m    \u001b[49m\u001b[43mdevice_map\u001b[49m\u001b[38;5;241;43m=\u001b[39;49m\u001b[38;5;124;43m\"\u001b[39;49m\u001b[38;5;124;43mauto\u001b[39;49m\u001b[38;5;124;43m\"\u001b[39;49m\u001b[43m,\u001b[49m\n\u001b[1;32m     35\u001b[0m \u001b[43m\u001b[49m\u001b[43m)\u001b[49m\n\u001b[1;32m     37\u001b[0m \u001b[38;5;66;03m# Now load the PEFT adapter weights\u001b[39;00m\n\u001b[1;32m     38\u001b[0m model \u001b[38;5;241m=\u001b[39m model\u001b[38;5;241m.\u001b[39mfrom_pretrained(model_id, device_map\u001b[38;5;241m=\u001b[39m\u001b[38;5;124m\"\u001b[39m\u001b[38;5;124mauto\u001b[39m\u001b[38;5;124m\"\u001b[39m)\n",
      "File \u001b[0;32m~/rl-llm/.conda/lib/python3.9/site-packages/trl/models/modeling_base.py:340\u001b[0m, in \u001b[0;36mPreTrainedModelWrapper.from_pretrained\u001b[0;34m(cls, pretrained_model_name_or_path, *model_args, **kwargs)\u001b[0m\n\u001b[1;32m    337\u001b[0m model\u001b[38;5;241m.\u001b[39mcurrent_device \u001b[38;5;241m=\u001b[39m current_device\n\u001b[1;32m    339\u001b[0m \u001b[38;5;28;01mif\u001b[39;00m is_resuming_training:\n\u001b[0;32m--> 340\u001b[0m     \u001b[43mmodel\u001b[49m\u001b[38;5;241;43m.\u001b[39;49m\u001b[43mpost_init\u001b[49m\u001b[43m(\u001b[49m\u001b[43mstate_dict\u001b[49m\u001b[38;5;241;43m=\u001b[39;49m\u001b[43mstate_dict\u001b[49m\u001b[43m)\u001b[49m\n\u001b[1;32m    342\u001b[0m \u001b[38;5;28;01mreturn\u001b[39;00m model\n",
      "File \u001b[0;32m~/rl-llm/.conda/lib/python3.9/site-packages/trl/models/modeling_value_head.py:247\u001b[0m, in \u001b[0;36mAutoModelForCausalLMWithValueHead.post_init\u001b[0;34m(***failed resolving arguments***)\u001b[0m\n\u001b[1;32m    242\u001b[0m \u001b[38;5;28;01mif\u001b[39;00m \u001b[38;5;28mhasattr\u001b[39m(\u001b[38;5;28mself\u001b[39m\u001b[38;5;241m.\u001b[39mpretrained_model, \u001b[38;5;124m\"\u001b[39m\u001b[38;5;124mhf_device_map\u001b[39m\u001b[38;5;124m\"\u001b[39m):\n\u001b[1;32m    243\u001b[0m     \u001b[38;5;28;01mif\u001b[39;00m (\n\u001b[1;32m    244\u001b[0m         \u001b[38;5;124m\"\u001b[39m\u001b[38;5;124mcpu\u001b[39m\u001b[38;5;124m\"\u001b[39m \u001b[38;5;129;01min\u001b[39;00m \u001b[38;5;28mself\u001b[39m\u001b[38;5;241m.\u001b[39mpretrained_model\u001b[38;5;241m.\u001b[39mhf_device_map\u001b[38;5;241m.\u001b[39mvalues()\n\u001b[1;32m    245\u001b[0m         \u001b[38;5;129;01mor\u001b[39;00m \u001b[38;5;124m\"\u001b[39m\u001b[38;5;124mdisk\u001b[39m\u001b[38;5;124m\"\u001b[39m \u001b[38;5;129;01min\u001b[39;00m \u001b[38;5;28mself\u001b[39m\u001b[38;5;241m.\u001b[39mpretrained_model\u001b[38;5;241m.\u001b[39mhf_device_map\u001b[38;5;241m.\u001b[39mvalues()\n\u001b[1;32m    246\u001b[0m     ):\n\u001b[0;32m--> 247\u001b[0m         \u001b[38;5;28;01mraise\u001b[39;00m \u001b[38;5;167;01mValueError\u001b[39;00m(\n\u001b[1;32m    248\u001b[0m             \u001b[38;5;124m\"\u001b[39m\u001b[38;5;124mThe model is offloaded on CPU or disk - CPU & disk offloading is not supported for ValueHead models.\u001b[39m\u001b[38;5;124m\"\u001b[39m\n\u001b[1;32m    249\u001b[0m         )\n\u001b[1;32m    251\u001b[0m     first_device \u001b[38;5;241m=\u001b[39m \u001b[38;5;28mlist\u001b[39m(\u001b[38;5;28mset\u001b[39m(\u001b[38;5;28mself\u001b[39m\u001b[38;5;241m.\u001b[39mpretrained_model\u001b[38;5;241m.\u001b[39mhf_device_map\u001b[38;5;241m.\u001b[39mvalues()))[\u001b[38;5;241m0\u001b[39m]\n\u001b[1;32m    252\u001b[0m     \u001b[38;5;28;01mif\u001b[39;00m \u001b[38;5;28misinstance\u001b[39m(first_device, \u001b[38;5;28mint\u001b[39m):\n",
      "\u001b[0;31mValueError\u001b[0m: The model is offloaded on CPU or disk - CPU & disk offloading is not supported for ValueHead models."
     ]
    }
   ],
   "source": [
    "import os\n",
    "import torch\n",
    "from transformers import AutoTokenizer\n",
    "from trl import AutoModelForCausalLMWithValueHead\n",
    "from peft import PeftConfig\n",
    "\n",
    "def load_model_with_peft_and_vhead(model_id, device=\"cuda\"):\n",
    "    \"\"\"\n",
    "    Load a model with both PEFT adapters and value head\n",
    "    \n",
    "    Args:\n",
    "        model_id: Path to model or HF hub model ID\n",
    "        device: Device to load the model to\n",
    "    \n",
    "    Returns:\n",
    "        model: The loaded model with adapters and value head\n",
    "        tokenizer: The associated tokenizer\n",
    "    \"\"\"\n",
    "    # Load tokenizer\n",
    "    tokenizer = AutoTokenizer.from_pretrained(model_id, padding_side='left')\n",
    "    if tokenizer.pad_token is None:\n",
    "        tokenizer.pad_token = tokenizer.eos_token\n",
    "    \n",
    "    # Get PEFT config to find base model\n",
    "    peft_config = PeftConfig.from_pretrained(model_id)\n",
    "    base_model_id = peft_config.base_model_name_or_path\n",
    "    \n",
    "    print(f\"Base model: {base_model_id}\")\n",
    "    print(f\"Loading with PEFT adapters from: {model_id}\")\n",
    "    \n",
    "    # Initialize model with value head from the base model\n",
    "    model = AutoModelForCausalLMWithValueHead.from_pretrained(\n",
    "        base_model_id,\n",
    "        device_map=\"auto\",\n",
    "    )\n",
    "    \n",
    "    # Now load the PEFT adapter weights\n",
    "    model = model.from_pretrained(model_id, device_map=\"auto\")\n",
    "    \n",
    "    return model, tokenizer\n",
    "\n",
    "# Example usage\n",
    "model_id = \"pavanpreet-gandhi/babyai-classical-ppo-prefinal-experiments-2025-04-11_13-38-03\"\n",
    "device = torch.device(\"cuda\" if torch.cuda.is_available() else \"cpu\")\n",
    "model, tokenizer = load_model_with_peft_and_vhead(model_id, device)\n",
    "\n",
    "# Test the model with a simple query\n",
    "prompt = \"You are in a room with a key. The instruction is to: pick up the key\"\n",
    "inputs = tokenizer(prompt, return_tensors=\"pt\").to(device)\n",
    "outputs = model.generate(**inputs, max_new_tokens=50, do_sample=True, temperature=0.7)\n",
    "print(\"\\nModel output:\")\n",
    "print(tokenizer.decode(outputs[0], skip_special_tokens=True))\n",
    "\n",
    "# You can also access the value head \n",
    "with torch.no_grad():\n",
    "    values = model.compute_value_estimates(\n",
    "        inputs,\n",
    "        max_new_tokens=50,\n",
    "        return_dict=True\n",
    "    )\n",
    "    print(f\"\\nValue estimate: {values['values'].item():.4f}\")"
   ]
  },
  {
   "cell_type": "code",
   "execution_count": null,
   "metadata": {},
   "outputs": [
    {
     "ename": "NameError",
     "evalue": "name 'model' is not defined",
     "output_type": "error",
     "traceback": [
      "\u001b[0;31m---------------------------------------------------------------------------\u001b[0m",
      "\u001b[0;31mNameError\u001b[0m                                 Traceback (most recent call last)",
      "Cell \u001b[0;32mIn[6], line 28\u001b[0m\n\u001b[1;32m     15\u001b[0m env_managers \u001b[38;5;241m=\u001b[39m [\n\u001b[1;32m     16\u001b[0m     EnvManager(\n\u001b[1;32m     17\u001b[0m         env_ids, \n\u001b[0;32m   (...)\u001b[0m\n\u001b[1;32m     21\u001b[0m     \u001b[38;5;28;01mfor\u001b[39;00m i \u001b[38;5;129;01min\u001b[39;00m \u001b[38;5;28mrange\u001b[39m(num_envs)\n\u001b[1;32m     22\u001b[0m ]\n\u001b[1;32m     23\u001b[0m reasoning_flag \u001b[38;5;241m=\u001b[39m \u001b[38;5;28;01mTrue\u001b[39;00m\n\u001b[1;32m     25\u001b[0m stats \u001b[38;5;241m=\u001b[39m sample_episodes(\n\u001b[1;32m     26\u001b[0m     envs\u001b[38;5;241m=\u001b[39menv_managers,\n\u001b[1;32m     27\u001b[0m     tokenizer\u001b[38;5;241m=\u001b[39mtokenizer,\n\u001b[0;32m---> 28\u001b[0m     model\u001b[38;5;241m=\u001b[39m\u001b[43mmodel\u001b[49m,\n\u001b[1;32m     29\u001b[0m     generation_kwargs\u001b[38;5;241m=\u001b[39mgeneration_kwargs,\n\u001b[1;32m     30\u001b[0m     device\u001b[38;5;241m=\u001b[39mdevice,\n\u001b[1;32m     31\u001b[0m     number_of_episodes\u001b[38;5;241m=\u001b[39m\u001b[38;5;241m1\u001b[39m,\n\u001b[1;32m     32\u001b[0m     context_window\u001b[38;5;241m=\u001b[39m\u001b[38;5;241m5\u001b[39m,\n\u001b[1;32m     33\u001b[0m     reasoning_flag\u001b[38;5;241m=\u001b[39mreasoning_flag,\n\u001b[1;32m     34\u001b[0m )\n\u001b[1;32m     35\u001b[0m success_rate \u001b[38;5;241m=\u001b[39m \u001b[38;5;28msum\u001b[39m(stats[\u001b[38;5;124m\"\u001b[39m\u001b[38;5;124msuccess\u001b[39m\u001b[38;5;124m\"\u001b[39m]) \u001b[38;5;241m/\u001b[39m \u001b[38;5;28mlen\u001b[39m(stats[\u001b[38;5;124m\"\u001b[39m\u001b[38;5;124msuccess\u001b[39m\u001b[38;5;124m\"\u001b[39m])\n\u001b[1;32m     36\u001b[0m avg_reward \u001b[38;5;241m=\u001b[39m \u001b[38;5;28msum\u001b[39m(stats[\u001b[38;5;124m\"\u001b[39m\u001b[38;5;124mrewards\u001b[39m\u001b[38;5;124m\"\u001b[39m]) \u001b[38;5;241m/\u001b[39m \u001b[38;5;28mlen\u001b[39m(stats[\u001b[38;5;124m\"\u001b[39m\u001b[38;5;124mrewards\u001b[39m\u001b[38;5;124m\"\u001b[39m])\n",
      "\u001b[0;31mNameError\u001b[0m: name 'model' is not defined"
     ]
    }
   ],
   "source": [
    "device = torch.device(\"cuda\" if torch.cuda.is_available() else \"cpu\")\n",
    "\n",
    "generation_kwargs = {\n",
    "    \"max_new_tokens\": 20,\n",
    "    \"do_sample\": True,\n",
    "    \"top_k\": 50,\n",
    "    \"top_p\": 0.95,\n",
    "    \"temperature\": 0.8,\n",
    "    \"pad_token_id\": tokenizer.pad_token_id,\n",
    "}\n",
    "\n",
    "env_id = \"BabyAI-GoTo-v0\"\n",
    "env_ids = [env_id]\n",
    "num_envs = 6\n",
    "env_managers = [\n",
    "    EnvManager(\n",
    "        env_ids, \n",
    "        invalid_action_penalty=-2,\n",
    "        consecutive_invalid_actions_allowed=5,\n",
    "    )\n",
    "    for i in range(num_envs)\n",
    "]\n",
    "reasoning_flag = True\n",
    "\n",
    "stats = sample_episodes(\n",
    "    envs=env_managers,\n",
    "    tokenizer=tokenizer,\n",
    "    model=model,\n",
    "    generation_kwargs=generation_kwargs,\n",
    "    device=device,\n",
    "    number_of_episodes=1,\n",
    "    context_window=5,\n",
    "    reasoning_flag=reasoning_flag,\n",
    ")\n",
    "success_rate = sum(stats[\"success\"]) / len(stats[\"success\"])\n",
    "avg_reward = sum(stats[\"rewards\"]) / len(stats[\"rewards\"])\n",
    "std_reward = torch.std(torch.tensor(stats[\"rewards\"], dtype=torch.float32)).item()\n",
    "avg_episode_length = sum(stats[\"episode_lengths\"]) / len(stats[\"episode_lengths\"])\n",
    "std_episode_length = torch.std(torch.tensor(stats[\"episode_lengths\"], dtype=torch.float32)).item()\n",
    "avg_num_invalid_actions = sum(stats[\"num_invalid_actions\"]) / len(stats[\"num_invalid_actions\"])\n",
    "\n",
    "print(f\"Summary: {env_id} with {'Reasoning' if reasoning_flag else 'No Reasoning'}\")\n",
    "print(f\"Sample size: {len(stats['success'])}\")\n",
    "print(f\"Success Rate: {success_rate:.2f}\")\n",
    "print(f\"Average Reward: {avg_reward:.2f} ± {std_reward:.2f}\")\n",
    "print(f\"Average Episode Length: {avg_episode_length:.2f} ± {std_episode_length:.2f}\")\n",
    "print(f\"Average Number of Invalid Actions: {avg_num_invalid_actions:.2f}\")\n",
    "print()"
   ]
  },
  {
   "cell_type": "markdown",
   "metadata": {},
   "source": [
    "## Base model (no finetuning)\n",
    "\n",
    "Summary: BabyAI-GoTo-v0 with No Reasoning\n",
    "Sample size: 20\n",
    "Success Rate: 0.65\n",
    "Average Reward: 0.51 ± 0.40\n",
    "Average Episode Length: 23.10 ± 17.94\n",
    "Average Number of Invalid Actions: 2.15\n",
    "\n",
    "Summary: BabyAI-GoTo-v0 with Reasoning\n",
    "Sample size: 20\n",
    "Success Rate: 0.95\n",
    "Average Reward: 0.77 ± 0.22\n",
    "Average Episode Length: 14.80 ± 8.84\n",
    "Average Number of Invalid Actions: 1.60\n",
    "\n",
    "Summary: BabyAI-Pickup-v0 with No Reasoning\n",
    "Sample size: 20\n",
    "Success Rate: 0.55\n",
    "Average Reward: 0.43 ± 0.41\n",
    "Average Episode Length: 28.65 ± 21.20\n",
    "Average Number of Invalid Actions: 2.30\n",
    "\n",
    "Summary: BabyAI-Pickup-v0 with Reasoning\n",
    "Sample size: 20\n",
    "Success Rate: 0.70\n",
    "Average Reward: 0.47 ± 0.36\n",
    "Average Episode Length: 21.30 ± 15.40\n",
    "Average Number of Invalid Actions: 2.50\n",
    "\n",
    "Summary: BabyAI-PutNext-v0 with No Reasoning\n",
    "Sample size: 20\n",
    "Success Rate: 0.05\n",
    "Average Reward: 0.01 ± 0.04\n",
    "Average Episode Length: 78.90 ± 48.60\n",
    "Average Number of Invalid Actions: 3.65\n",
    "\n",
    "Summary: BabyAI-PutNext-v0 with Reasoning\n",
    "Sample size: 21\n",
    "Success Rate: 0.19\n",
    "Average Reward: 0.07 ± 0.17\n",
    "Average Episode Length: 95.81 ± 50.48\n",
    "Average Number of Invalid Actions: 2.57\n",
    "\n",
    "Summary: BabyAI-Open-v0 with No Reasoning\n",
    "Sample size: 20\n",
    "Success Rate: 0.35\n",
    "Average Reward: 0.16 ± 0.25\n",
    "Average Episode Length: 79.35 ± 34.19\n",
    "Average Number of Invalid Actions: 3.50\n",
    "\n",
    "Summary: BabyAI-Open-v0 with Reasoning\n",
    "Sample size: 20\n",
    "Success Rate: 0.30\n",
    "Average Reward: 0.15 ± 0.25\n",
    "Average Episode Length: 81.65 ± 48.86\n",
    "Average Number of Invalid Actions: 3.05\n",
    "\n",
    "Summary: BabyAI-PickUpSeqGoTo with No Reasoning\n",
    "Sample size: 20\n",
    "Success Rate: 0.55\n",
    "Average Reward: 0.32 ± 0.32\n",
    "Average Episode Length: 83.40 ± 39.94\n",
    "Average Number of Invalid Actions: 0.90\n",
    "\n",
    "Summary: BabyAI-PickUpSeqGoTo with Reasoning\n",
    "Sample size: 20\n",
    "Success Rate: 0.35\n",
    "Average Reward: 0.19 ± 0.32\n",
    "Average Episode Length: 84.50 ± 49.86\n",
    "Average Number of Invalid Actions: 2.90\n",
    "\n",
    "\n",
    "## Finetuned model (allowed to reason)\n",
    "\n"
   ]
  }
 ],
 "metadata": {
  "kernelspec": {
   "display_name": "Python 3",
   "language": "python",
   "name": "python3"
  },
  "language_info": {
   "codemirror_mode": {
    "name": "ipython",
    "version": 3
   },
   "file_extension": ".py",
   "mimetype": "text/x-python",
   "name": "python",
   "nbconvert_exporter": "python",
   "pygments_lexer": "ipython3",
   "version": "3.9.21"
  }
 },
 "nbformat": 4,
 "nbformat_minor": 2
}
