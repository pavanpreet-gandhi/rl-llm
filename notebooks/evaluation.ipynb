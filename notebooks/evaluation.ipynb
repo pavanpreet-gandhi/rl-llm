{
 "cells": [
  {
   "cell_type": "code",
   "execution_count": 1,
   "metadata": {},
   "outputs": [
    {
     "name": "stdout",
     "output_type": "stream",
     "text": [
      "Changed directory to: /workspace/rl-llm\n",
      "Current directory: /workspace/rl-llm\n"
     ]
    }
   ],
   "source": [
    "import os\n",
    "\n",
    "# Check if we're in the root directory of rl-llm repo\n",
    "if not os.path.basename(os.getcwd()) == 'rl-llm':\n",
    "    # If we're in a subdirectory of rl-llm, find the root and cd to it\n",
    "    current_path = os.getcwd()\n",
    "    while os.path.basename(current_path) != 'rl-llm' and os.path.dirname(current_path) != current_path:\n",
    "        current_path = os.path.dirname(current_path)\n",
    "    \n",
    "    if os.path.basename(current_path) == 'rl-llm':\n",
    "        os.chdir(current_path)\n",
    "        print(f\"Changed directory to: {current_path}\")\n",
    "    else:\n",
    "        print(\"Not in rl-llm repository structure\")\n",
    "else:\n",
    "    print(\"Already in rl-llm root directory\")\n",
    "\n",
    "print(f\"Current directory: {os.getcwd()}\")"
   ]
  },
  {
   "cell_type": "code",
   "execution_count": 11,
   "metadata": {},
   "outputs": [],
   "source": [
    "# Import necessary libraries\n",
    "import os\n",
    "import torch\n",
    "import time\n",
    "import seaborn as sns\n",
    "import numpy as np\n",
    "import matplotlib.pyplot as plt\n",
    "import logging\n",
    "from src import EnvManager, sample_episodes\n",
    "from transformers import AutoTokenizer, AutoModelForCausalLM\n",
    "from peft import PeftModel, PeftConfig\n",
    "from typing import List, Dict, Tuple\n",
    "\n",
    "# Suppress spammy logs from transformers, \n",
    "# e.g. \"Setting `pad_token_id` to `eos_token_id`:128001 for open-end generation.\"\n",
    "logging.getLogger(\"transformers\").setLevel(logging.ERROR)"
   ]
  },
  {
   "cell_type": "code",
   "execution_count": 12,
   "metadata": {},
   "outputs": [],
   "source": [
    "def load_model(model_id, revision=None):\n",
    "    \"\"\"\n",
    "    Load a model with both PEFT adapters and value head\n",
    "    \n",
    "    Args:\n",
    "        model_id: Path to model or HF hub model ID\n",
    "        device: Device to load the model to\n",
    "        revision: Specific model revision/commit hash to load\n",
    "    \n",
    "    Returns:\n",
    "        model: The loaded model with adapters and value head\n",
    "        tokenizer: The associated tokenizer\n",
    "    \"\"\"\n",
    "    \n",
    "    tokenizer = AutoTokenizer.from_pretrained(model_id, padding_side='left', revision=revision)\n",
    "    if tokenizer.pad_token is None:\n",
    "        tokenizer.pad_token = tokenizer.eos_token\n",
    "    \n",
    "    peft_config = PeftConfig.from_pretrained(model_id, revision=revision)\n",
    "    base_model_id = peft_config.base_model_name_or_path\n",
    "    \n",
    "    logging.info(f\"Loading base model: {base_model_id}\")\n",
    "    logging.info(f\"Loading with PEFT adapters from: {model_id}\")\n",
    "    if revision:\n",
    "        logging.info(f\"Using revision: {revision}\")\n",
    "    \n",
    "    base_model = AutoModelForCausalLM.from_pretrained(base_model_id)\n",
    "    model = PeftModel.from_pretrained(base_model, model_id, revision=revision)\n",
    "    model.to(torch.device(\"cuda\" if torch.cuda.is_available() else \"cpu\"))\n",
    "    \n",
    "    return model, tokenizer\n",
    "\n",
    "\n",
    "def load_base_model(model_id):\n",
    "    \"\"\"\n",
    "    Load a base model with value head\n",
    "    \n",
    "    Args:\n",
    "        model_id: Path to model or HF hub model ID\n",
    "    \n",
    "    Returns:\n",
    "        model: The loaded model with value head\n",
    "        tokenizer: The associated tokenizer\n",
    "    \"\"\"\n",
    "    # Load tokenizer\n",
    "    tokenizer = AutoTokenizer.from_pretrained(model_id, padding_side='left')\n",
    "    if tokenizer.pad_token is None:\n",
    "        tokenizer.pad_token = tokenizer.eos_token\n",
    "    \n",
    "    logging.info(f\"Loading base model with value head from: {model_id}\")\n",
    "    \n",
    "    model = AutoModelForCausalLM.from_pretrained(model_id)\n",
    "    model.to(torch.device(\"cuda\" if torch.cuda.is_available() else \"cpu\"))\n",
    "    \n",
    "    return model, tokenizer\n"
   ]
  },
  {
   "cell_type": "code",
   "execution_count": null,
   "metadata": {},
   "outputs": [],
   "source": [
    "# Specify models to be evaluated\n",
    "model_configs = {\n",
    "    \"Zero-shot\": {\n",
    "        \"load_fn\": load_base_model,\n",
    "        \"model_id\": \"meta-llama/Llama-3.2-3B-Instruct\", \n",
    "        \"reasoning_flag\": None\n",
    "    },\n",
    "    \"Three-Distractor-NonReasoning_1\": {\n",
    "        \"load_fn\": load_model,\n",
    "        \"model_id\": \"CatkinChen/final_runs-No_Reasoning_trial_2_dist_3\",\n",
    "        \"revision\": '8852cb36bd2be4856c004c1398bba82d3279a31b',   # Optionally set a revision if needed\n",
    "        \"reasoning_flag\": False\n",
    "    },\n",
    "    \"Three-Distractor-NonReasoning_2\": {\n",
    "        \"load_fn\": load_model,\n",
    "        \"model_id\": \"Heisenger/final_runs-No_Reasoning_trial_1_dist_3\",\n",
    "        \"revision\": 'cc65646e3a8a90bbf47814b61ae087344f865135',   # Optionally set a revision if needed\n",
    "        \"reasoning_flag\": False\n",
    "    },\n",
    "    \"Three-Distractor-Reasoning_1\": {\n",
    "        \"load_fn\": load_model,\n",
    "        \"model_id\": \"CatkinChen/final_runs-Reasoning_trial_2_dist_3\",\n",
    "        \"revision\": 'd58b9d03f3ecdb9c40a485a8b590616538e0f2d9',   # Optionally set a revision if needed\n",
    "        \"reasoning_flag\": True\n",
    "    },\n",
    "    \"Three-Distractor-Reasoning_2\": {\n",
    "        \"load_fn\": load_model,\n",
    "        \"model_id\": \"Heisenger/final_runs-Reasoning_trial_1_dist_3\",\n",
    "        \"revision\": '8b3b82b115b7b918b1b3ad724a3d0bcd37de9f95',   # Optionally set a revision if needed\n",
    "        \"reasoning_flag\": True\n",
    "    }\n",
    "}"
   ]
  },
  {
   "cell_type": "code",
   "execution_count": 7,
   "metadata": {},
   "outputs": [
    {
     "name": "stdout",
     "output_type": "stream",
     "text": [
      "\n",
      "Loading and testing model: Baseline\n"
     ]
    },
    {
     "data": {
      "application/vnd.jupyter.widget-view+json": {
       "model_id": "717df530e1934502819cd37c8f6418df",
       "version_major": 2,
       "version_minor": 0
      },
      "text/plain": [
       "Loading checkpoint shards:   0%|          | 0/2 [00:00<?, ?it/s]"
      ]
     },
     "metadata": {},
     "output_type": "display_data"
    },
    {
     "name": "stdout",
     "output_type": "stream",
     "text": [
      "Model output:\n",
      "You are in a room with a key. The instruction is to: pick up the key, open the door, and get out. This seems like an easy task, but in reality, it's much more complicated than it seems. \n",
      "\n",
      "The door is locked, but the key is already in the room. The problem is that the key\n",
      "\n",
      "Loading and testing model: Trial2r\n"
     ]
    },
    {
     "data": {
      "application/vnd.jupyter.widget-view+json": {
       "model_id": "c21e8884386349859035026e2edf097b",
       "version_major": 2,
       "version_minor": 0
      },
      "text/plain": [
       "Loading checkpoint shards:   0%|          | 0/2 [00:00<?, ?it/s]"
      ]
     },
     "metadata": {},
     "output_type": "display_data"
    },
    {
     "name": "stdout",
     "output_type": "stream",
     "text": [
      "Model output:\n",
      "You are in a room with a key. The instruction is to: pick up the key and unlock the door. The key is in a locked box. The box has a combination lock. The combination is: 3-1-5. To open the box, enter the combination correctly. Then, you can pick up the key.\n",
      "\n",
      "Loading and testing model: Trial2\n"
     ]
    },
    {
     "data": {
      "application/vnd.jupyter.widget-view+json": {
       "model_id": "2c760df7aefb434bba2a9ca5fbf562bd",
       "version_major": 2,
       "version_minor": 0
      },
      "text/plain": [
       "Loading checkpoint shards:   0%|          | 0/2 [00:00<?, ?it/s]"
      ]
     },
     "metadata": {},
     "output_type": "display_data"
    },
    {
     "name": "stdout",
     "output_type": "stream",
     "text": [
      "Model output:\n",
      "You are in a room with a key. The instruction is to: pick up the key. \n",
      "This is an example of an instruction that requires a **default action**. A default action is a pre-programmed response to a command or instruction. In this case, the default action is to pick up the key. This is a common\n",
      "\n",
      "Loading and testing model: Trial1\n"
     ]
    },
    {
     "data": {
      "application/vnd.jupyter.widget-view+json": {
       "model_id": "cac4702a38714fcc99e255906828875e",
       "version_major": 2,
       "version_minor": 0
      },
      "text/plain": [
       "Loading checkpoint shards:   0%|          | 0/2 [00:00<?, ?it/s]"
      ]
     },
     "metadata": {},
     "output_type": "display_data"
    },
    {
     "name": "stdout",
     "output_type": "stream",
     "text": [
      "Model output:\n",
      "You are in a room with a key. The instruction is to: pick up the key.  In other words, you should pick up the key that is already in the room.\n",
      "\n",
      "Since there is only one key in the room, you can't pick up anything else.\n",
      "\n",
      "## Step 1: Understand the instruction\n",
      "The instruction is to\n",
      "\n",
      "Loading and testing model: Trial1r\n"
     ]
    },
    {
     "data": {
      "application/vnd.jupyter.widget-view+json": {
       "model_id": "41b6285384164ff883dbd36a8c393784",
       "version_major": 2,
       "version_minor": 0
      },
      "text/plain": [
       "Loading checkpoint shards:   0%|          | 0/2 [00:00<?, ?it/s]"
      ]
     },
     "metadata": {},
     "output_type": "display_data"
    },
    {
     "name": "stdout",
     "output_type": "stream",
     "text": [
      "Model output:\n",
      "You are in a room with a key. The instruction is to: pick up the key and leave the room.\n",
      "\n",
      "This is a classic example of the Liar Paradox.\n",
      "\n",
      "The statement \"pick up the key and leave the room\" is either true or false. If it is true, then you should pick up the key and leave the\n"
     ]
    }
   ],
   "source": [
    "# Use cuda if available\n",
    "device = torch.device(\"cuda\" if torch.cuda.is_available() else \"cpu\")\n",
    "# Iterate over each model configuration to load and test with a simple query\n",
    "for model_name, config in model_configs.items():\n",
    "    print(f\"\\nLoading and testing model: {model_name}\")\n",
    "\n",
    "    # Retrieve the loading function, model id, and optionally, the commit hash\n",
    "    load_fn = config[\"load_fn\"]\n",
    "    model_id = config[\"model_id\"]\n",
    "    revision = config.get(\"revision\", None)\n",
    "\n",
    "    # Load the model and associated tokenizer using the specified function\n",
    "    if load_fn.__name__ == \"load_base_model\":\n",
    "        model, tokenizer = load_fn(model_id)\n",
    "    else:\n",
    "        model, tokenizer = load_fn(model_id, revision)\n",
    "\n",
    "    # Simple query to test the model\n",
    "    prompt = \"You are in a room with a key. The instruction is to: pick up the key\"\n",
    "    \n",
    "    # Tokenize the input prompt and send tensors to device\n",
    "    inputs = tokenizer(prompt, return_tensors=\"pt\")\n",
    "    inputs = {k: v.to(device) for k, v in inputs.items()}\n",
    "\n",
    "    # Generate output with your text-generation settings\n",
    "    outputs = model.generate(**inputs, max_new_tokens=50, do_sample=True, temperature=0.7)\n",
    "\n",
    "    # Decode the generated tokens into text\n",
    "    output_text = tokenizer.decode(outputs[0], skip_special_tokens=True)\n",
    "    \n",
    "    # Display the model's output\n",
    "    print(\"Model output:\")\n",
    "    print(output_text)"
   ]
  },
  {
   "cell_type": "code",
   "execution_count": 14,
   "metadata": {},
   "outputs": [],
   "source": [
    "# Define the seen and unseen environments\n",
    "seen_env_ids = [\"BabyAI-GoTo-v0\", \"BabyAI-Pickup-v0\"]\n",
    "unseen_env_ids = [\"BabyAI-GoToTest-v0\", \"BabyAI-PickupTest-v0\"] #\"BabyAI-Open-v0\", \"BabyAI-PickUpSeqGoTo-v0\"\n",
    "\n",
    "# Number of parallel environments to instantiate for each configuration.\n",
    "num_envs = 6\n",
    "\n",
    "# Initialise a container for the aggregated results.\n",
    "evaluation_results = {}\n",
    "\n",
    "# Function that evaluates a model on a given environment and reasoning flag\n",
    "def evaluate_model_on_envs(env_id, reasoning_flag, model, tokenizer, generation_kwargs, device, num_episodes=50):\n",
    "    if generation_kwargs is None:\n",
    "        generation_kwargs = {\n",
    "            \"do_sample\": True,\n",
    "            \"top_k\": 50,\n",
    "            \"top_p\": 0.9,\n",
    "            \"temperature\": 0.7,\n",
    "            \"pad_token_id\": tokenizer.pad_token_id,\n",
    "        }\n",
    "    # Create environment managers for the current env_id and reasoning flag.\n",
    "    env_managers = [\n",
    "        EnvManager(\n",
    "            env_ids=[env_id],\n",
    "            invalid_action_penalty=-1,\n",
    "            consecutive_invalid_actions_allowed=5,\n",
    "            reasoning_flag=reasoning_flag,\n",
    "            num_dists=3,\n",
    "        )\n",
    "        for _ in range(num_envs)\n",
    "    ]\n",
    "    \n",
    "    # Run episodes using sample_episodes\n",
    "    stats, contexts = sample_episodes(\n",
    "        envs=env_managers,\n",
    "        tokenizer=tokenizer,\n",
    "        model=model,\n",
    "        generation_kwargs=generation_kwargs,\n",
    "        device=device,\n",
    "        number_of_episodes=num_episodes,\n",
    "        context_window=5,\n",
    "        reasoning_flag=reasoning_flag,\n",
    "    )\n",
    "    \n",
    "    # Calculate the summary metrics.\n",
    "    success_rate = sum(stats[\"success\"]) / len(stats[\"success\"])\n",
    "    success_rate_std = torch.std(torch.tensor(stats[\"success\"], dtype=torch.float32)).item()\n",
    "    avg_reward = sum(stats[\"rewards\"]) / len(stats[\"rewards\"])\n",
    "    std_reward = torch.std(torch.tensor(stats[\"rewards\"], dtype=torch.float32)).item()\n",
    "    avg_episode_length = sum(stats[\"episode_lengths\"]) / len(stats[\"episode_lengths\"])\n",
    "    std_episode_length = torch.std(torch.tensor(stats[\"episode_lengths\"], dtype=torch.float32)).item()\n",
    "    avg_num_invalid_actions = sum(stats[\"num_invalid_actions\"]) / len(stats[\"num_invalid_actions\"])\n",
    "    \n",
    "    # Bundle the results into a dictionary.\n",
    "    results = {\n",
    "        \"success_rate\": success_rate,\n",
    "        \"success_rate_std\": success_rate_std,\n",
    "        \"avg_reward\": avg_reward,\n",
    "        \"std_reward\": std_reward,\n",
    "        \"avg_episode_length\": avg_episode_length,\n",
    "        \"std_episode_length\": std_episode_length,\n",
    "        \"avg_num_invalid_actions\": avg_num_invalid_actions,\n",
    "        \"contexts\": contexts,  # optional: include detailed contexts if needed\n",
    "    }\n",
    "    return results"
   ]
  },
  {
   "cell_type": "code",
   "execution_count": 15,
   "metadata": {},
   "outputs": [
    {
     "name": "stdout",
     "output_type": "stream",
     "text": [
      "Loading model: Zero-shot\n"
     ]
    },
    {
     "data": {
      "application/vnd.jupyter.widget-view+json": {
       "model_id": "0b79b68d7aa242d287fda7997acf7418",
       "version_major": 2,
       "version_minor": 0
      },
      "text/plain": [
       "Loading checkpoint shards:   0%|          | 0/2 [00:00<?, ?it/s]"
      ]
     },
     "metadata": {},
     "output_type": "display_data"
    },
    {
     "name": "stdout",
     "output_type": "stream",
     "text": [
      "Evaluating Zero-shot on Seen env: BabyAI-GoTo-v0 with reasoning=True\n",
      "1 2 3 4 5 6 \n",
      "Evaluating Zero-shot on Seen env: BabyAI-GoTo-v0 with reasoning=False\n",
      "1 2 3 4 5 \n",
      "Evaluating Zero-shot on Seen env: BabyAI-Pickup-v0 with reasoning=True\n",
      "1 2 3 4 5 \n",
      "Evaluating Zero-shot on Seen env: BabyAI-Pickup-v0 with reasoning=False\n",
      "1 2 3 4 5 \n",
      "Evaluating Zero-shot on Unseen env: BabyAI-GoToTest-v0 with reasoning=True\n",
      "1 2 3 4 5 \n",
      "Evaluating Zero-shot on Unseen env: BabyAI-GoToTest-v0 with reasoning=False\n",
      "1 2 3 4 5 \n",
      "Evaluating Zero-shot on Unseen env: BabyAI-PickupTest-v0 with reasoning=True\n",
      "1 2 3 4 5 6 \n",
      "Evaluating Zero-shot on Unseen env: BabyAI-PickupTest-v0 with reasoning=False\n",
      "1 2 3 4 5 \n",
      "Loading model: Three-Distractor-NonReasoning_1\n"
     ]
    },
    {
     "data": {
      "application/vnd.jupyter.widget-view+json": {
       "model_id": "d6e23f4687cd42b69348663a82a17ed9",
       "version_major": 2,
       "version_minor": 0
      },
      "text/plain": [
       "tokenizer_config.json:   0%|          | 0.00/54.5k [00:00<?, ?B/s]"
      ]
     },
     "metadata": {},
     "output_type": "display_data"
    },
    {
     "data": {
      "application/vnd.jupyter.widget-view+json": {
       "model_id": "4b398b63a2cd4b93b5b30073f141cb6b",
       "version_major": 2,
       "version_minor": 0
      },
      "text/plain": [
       "tokenizer.json:   0%|          | 0.00/17.2M [00:00<?, ?B/s]"
      ]
     },
     "metadata": {},
     "output_type": "display_data"
    },
    {
     "data": {
      "application/vnd.jupyter.widget-view+json": {
       "model_id": "b63dbe1a99fa4585a57928c6eb1e4271",
       "version_major": 2,
       "version_minor": 0
      },
      "text/plain": [
       "special_tokens_map.json:   0%|          | 0.00/325 [00:00<?, ?B/s]"
      ]
     },
     "metadata": {},
     "output_type": "display_data"
    },
    {
     "data": {
      "application/vnd.jupyter.widget-view+json": {
       "model_id": "67d1782aada4418084abb0e24bbec65a",
       "version_major": 2,
       "version_minor": 0
      },
      "text/plain": [
       "adapter_config.json:   0%|          | 0.00/788 [00:00<?, ?B/s]"
      ]
     },
     "metadata": {},
     "output_type": "display_data"
    },
    {
     "data": {
      "application/vnd.jupyter.widget-view+json": {
       "model_id": "6e765473cdf449099b798aa5c6f2ae47",
       "version_major": 2,
       "version_minor": 0
      },
      "text/plain": [
       "Loading checkpoint shards:   0%|          | 0/2 [00:00<?, ?it/s]"
      ]
     },
     "metadata": {},
     "output_type": "display_data"
    },
    {
     "data": {
      "application/vnd.jupyter.widget-view+json": {
       "model_id": "4de0702e28b74d1891076ee7dbd0f928",
       "version_major": 2,
       "version_minor": 0
      },
      "text/plain": [
       "adapter_model.safetensors:   0%|          | 0.00/36.7M [00:00<?, ?B/s]"
      ]
     },
     "metadata": {},
     "output_type": "display_data"
    },
    {
     "name": "stdout",
     "output_type": "stream",
     "text": [
      "Evaluating Three-Distractor-NonReasoning_1 on Seen env: BabyAI-GoTo-v0 with reasoning=False\n",
      "1 2 3 4 5 \n",
      "Evaluating Three-Distractor-NonReasoning_1 on Seen env: BabyAI-Pickup-v0 with reasoning=False\n",
      "1 2 3 4 5 \n",
      "Evaluating Three-Distractor-NonReasoning_1 on Unseen env: BabyAI-GoToTest-v0 with reasoning=False\n",
      "1 2 3 4 5 \n",
      "Evaluating Three-Distractor-NonReasoning_1 on Unseen env: BabyAI-PickupTest-v0 with reasoning=False\n",
      "1 2 3 4 5 \n",
      "Loading model: Three-Distractor-NonReasoning_2\n"
     ]
    },
    {
     "data": {
      "application/vnd.jupyter.widget-view+json": {
       "model_id": "43d496cb6e724e549aed10e1770c83f1",
       "version_major": 2,
       "version_minor": 0
      },
      "text/plain": [
       "tokenizer_config.json:   0%|          | 0.00/54.5k [00:00<?, ?B/s]"
      ]
     },
     "metadata": {},
     "output_type": "display_data"
    },
    {
     "data": {
      "application/vnd.jupyter.widget-view+json": {
       "model_id": "151f54b118534ca39204d5d90d81c8d3",
       "version_major": 2,
       "version_minor": 0
      },
      "text/plain": [
       "tokenizer.json:   0%|          | 0.00/17.2M [00:00<?, ?B/s]"
      ]
     },
     "metadata": {},
     "output_type": "display_data"
    },
    {
     "data": {
      "application/vnd.jupyter.widget-view+json": {
       "model_id": "ad752b81c015438592687ff50af525bc",
       "version_major": 2,
       "version_minor": 0
      },
      "text/plain": [
       "special_tokens_map.json:   0%|          | 0.00/325 [00:00<?, ?B/s]"
      ]
     },
     "metadata": {},
     "output_type": "display_data"
    },
    {
     "data": {
      "application/vnd.jupyter.widget-view+json": {
       "model_id": "81b7ee3e36a546a1955f353a951d73c3",
       "version_major": 2,
       "version_minor": 0
      },
      "text/plain": [
       "adapter_config.json:   0%|          | 0.00/788 [00:00<?, ?B/s]"
      ]
     },
     "metadata": {},
     "output_type": "display_data"
    },
    {
     "data": {
      "application/vnd.jupyter.widget-view+json": {
       "model_id": "8076e905552544f1880d765ff0ab840f",
       "version_major": 2,
       "version_minor": 0
      },
      "text/plain": [
       "Loading checkpoint shards:   0%|          | 0/2 [00:00<?, ?it/s]"
      ]
     },
     "metadata": {},
     "output_type": "display_data"
    },
    {
     "data": {
      "application/vnd.jupyter.widget-view+json": {
       "model_id": "b2778115c7d843feb680448ba604cca6",
       "version_major": 2,
       "version_minor": 0
      },
      "text/plain": [
       "adapter_model.safetensors:   0%|          | 0.00/36.7M [00:00<?, ?B/s]"
      ]
     },
     "metadata": {},
     "output_type": "display_data"
    },
    {
     "name": "stdout",
     "output_type": "stream",
     "text": [
      "Evaluating Three-Distractor-NonReasoning_2 on Seen env: BabyAI-GoTo-v0 with reasoning=False\n",
      "1 2 3 4 5 \n",
      "Evaluating Three-Distractor-NonReasoning_2 on Seen env: BabyAI-Pickup-v0 with reasoning=False\n",
      "1 2 3 4 5 6 7 \n",
      "Evaluating Three-Distractor-NonReasoning_2 on Unseen env: BabyAI-GoToTest-v0 with reasoning=False\n",
      "1 2 3 4 5 \n",
      "Evaluating Three-Distractor-NonReasoning_2 on Unseen env: BabyAI-PickupTest-v0 with reasoning=False\n",
      "1 2 3 4 5 \n",
      "Loading model: Three-Distractor-Reasoning_1\n"
     ]
    },
    {
     "data": {
      "application/vnd.jupyter.widget-view+json": {
       "model_id": "d903414dd6744f6fb1dd118816958dc7",
       "version_major": 2,
       "version_minor": 0
      },
      "text/plain": [
       "Loading checkpoint shards:   0%|          | 0/2 [00:00<?, ?it/s]"
      ]
     },
     "metadata": {},
     "output_type": "display_data"
    },
    {
     "name": "stdout",
     "output_type": "stream",
     "text": [
      "Evaluating Three-Distractor-Reasoning_1 on Seen env: BabyAI-GoTo-v0 with reasoning=True\n",
      "1 2 3 4 5 6 \n",
      "Evaluating Three-Distractor-Reasoning_1 on Seen env: BabyAI-Pickup-v0 with reasoning=True\n",
      "1 2 3 4 5 6 \n",
      "Evaluating Three-Distractor-Reasoning_1 on Unseen env: BabyAI-GoToTest-v0 with reasoning=True\n",
      "1 2 3 4 5 \n",
      "Evaluating Three-Distractor-Reasoning_1 on Unseen env: BabyAI-PickupTest-v0 with reasoning=True\n",
      "1 2 3 4 5 \n",
      "Loading model: Three-Distractor-Reasoning_2\n"
     ]
    },
    {
     "data": {
      "application/vnd.jupyter.widget-view+json": {
       "model_id": "913a9e0f1da44835bedd3730bb5980ac",
       "version_major": 2,
       "version_minor": 0
      },
      "text/plain": [
       "tokenizer_config.json:   0%|          | 0.00/54.5k [00:00<?, ?B/s]"
      ]
     },
     "metadata": {},
     "output_type": "display_data"
    },
    {
     "data": {
      "application/vnd.jupyter.widget-view+json": {
       "model_id": "abfa3d9a54d6495998beb3adce41abc1",
       "version_major": 2,
       "version_minor": 0
      },
      "text/plain": [
       "tokenizer.json:   0%|          | 0.00/17.2M [00:00<?, ?B/s]"
      ]
     },
     "metadata": {},
     "output_type": "display_data"
    },
    {
     "data": {
      "application/vnd.jupyter.widget-view+json": {
       "model_id": "0a6da719c9bf4723a5f5d93ce312bc63",
       "version_major": 2,
       "version_minor": 0
      },
      "text/plain": [
       "special_tokens_map.json:   0%|          | 0.00/325 [00:00<?, ?B/s]"
      ]
     },
     "metadata": {},
     "output_type": "display_data"
    },
    {
     "data": {
      "application/vnd.jupyter.widget-view+json": {
       "model_id": "629a54b1c0a44c8c8c70bbdf3d33c31e",
       "version_major": 2,
       "version_minor": 0
      },
      "text/plain": [
       "adapter_config.json:   0%|          | 0.00/788 [00:00<?, ?B/s]"
      ]
     },
     "metadata": {},
     "output_type": "display_data"
    },
    {
     "data": {
      "application/vnd.jupyter.widget-view+json": {
       "model_id": "756093ab6ca9487290b7a84471294e4a",
       "version_major": 2,
       "version_minor": 0
      },
      "text/plain": [
       "Loading checkpoint shards:   0%|          | 0/2 [00:00<?, ?it/s]"
      ]
     },
     "metadata": {},
     "output_type": "display_data"
    },
    {
     "data": {
      "application/vnd.jupyter.widget-view+json": {
       "model_id": "058a9d9239234677b846a81cecd3e687",
       "version_major": 2,
       "version_minor": 0
      },
      "text/plain": [
       "adapter_model.safetensors:   0%|          | 0.00/36.7M [00:00<?, ?B/s]"
      ]
     },
     "metadata": {},
     "output_type": "display_data"
    },
    {
     "name": "stdout",
     "output_type": "stream",
     "text": [
      "Evaluating Three-Distractor-Reasoning_2 on Seen env: BabyAI-GoTo-v0 with reasoning=True\n",
      "1 2 3 4 5 \n",
      "Evaluating Three-Distractor-Reasoning_2 on Seen env: BabyAI-Pickup-v0 with reasoning=True\n",
      "1 2 3 4 5 \n",
      "Evaluating Three-Distractor-Reasoning_2 on Unseen env: BabyAI-GoToTest-v0 with reasoning=True\n",
      "1 2 3 4 5 6 \n",
      "Evaluating Three-Distractor-Reasoning_2 on Unseen env: BabyAI-PickupTest-v0 with reasoning=True\n",
      "1 2 3 4 5 \n",
      "\n",
      "Results for Zero-shot on BabyAI-GoTo-v0 (reasoning=True):\n",
      "  Success Rate: 0.3333333333333333\n",
      "  Success Rate Std: 0.5163977742195129\n",
      "  Avg Reward: 0.27708333333333335 (Std: 0.4315529763698578)\n",
      "  Avg Episode Length: 11.833333333333334 (Std: 6.493586540222168)\n",
      "  Avg Num. of Invalid Actions: 5.333333333333333\n",
      "\n",
      "Results for Zero-shot on BabyAI-GoTo-v0 (reasoning=False):\n",
      "  Success Rate: 1.0\n",
      "  Success Rate Std: 0.0\n",
      "  Avg Reward: 0.6596875000000001 (Std: 0.1178232878446579)\n",
      "  Avg Episode Length: 24.6 (Std: 8.933084487915039)\n",
      "  Avg Num. of Invalid Actions: 0.4\n",
      "\n",
      "Results for Zero-shot on BabyAI-Pickup-v0 (reasoning=True):\n",
      "  Success Rate: 0.4\n",
      "  Success Rate Std: 0.547722578048706\n",
      "  Avg Reward: 0.3240625 (Std: 0.443768709897995)\n",
      "  Avg Episode Length: 12.4 (Std: 4.449718952178955)\n",
      "  Avg Num. of Invalid Actions: 4.2\n",
      "\n",
      "Results for Zero-shot on BabyAI-Pickup-v0 (reasoning=False):\n",
      "  Success Rate: 0.4\n",
      "  Success Rate Std: 0.547722578048706\n",
      "  Avg Reward: 0.248125 (Std: 0.34337764978408813)\n",
      "  Avg Episode Length: 49.2 (Std: 20.57182502746582)\n",
      "  Avg Num. of Invalid Actions: 0.0\n",
      "\n",
      "Results for Zero-shot on BabyAI-GoToTest-v0 (reasoning=True):\n",
      "  Success Rate: 0.8\n",
      "  Success Rate Std: 0.4472135901451111\n",
      "  Avg Reward: 0.48781249999999987 (Std: 0.4169773757457733)\n",
      "  Avg Episode Length: 23.4 (Std: 24.490814208984375)\n",
      "  Avg Num. of Invalid Actions: 1.2\n",
      "\n",
      "Results for Zero-shot on BabyAI-GoToTest-v0 (reasoning=False):\n",
      "  Success Rate: 1.0\n",
      "  Success Rate Std: 0.0\n",
      "  Avg Reward: 0.9015625 (Std: 0.06367066502571106)\n",
      "  Avg Episode Length: 7.2 (Std: 4.919349670410156)\n",
      "  Avg Num. of Invalid Actions: 0.2\n",
      "\n",
      "Results for Zero-shot on BabyAI-PickupTest-v0 (reasoning=True):\n",
      "  Success Rate: 0.16666666666666666\n",
      "  Success Rate Std: 0.40824830532073975\n",
      "  Avg Reward: 0.08697916666666666 (Std: 0.2130545824766159)\n",
      "  Avg Episode Length: 42.0 (Std: 25.361387252807617)\n",
      "  Avg Num. of Invalid Actions: 2.0\n",
      "\n",
      "Results for Zero-shot on BabyAI-PickupTest-v0 (reasoning=False):\n",
      "  Success Rate: 0.6\n",
      "  Success Rate Std: 0.547722578048706\n",
      "  Avg Reward: 0.40874999999999995 (Std: 0.45333319902420044)\n",
      "  Avg Episode Length: 39.4 (Std: 29.228410720825195)\n",
      "  Avg Num. of Invalid Actions: 0.2\n",
      "\n",
      "Results for Three-Distractor-NonReasoning_1 on BabyAI-GoTo-v0 (reasoning=False):\n",
      "  Success Rate: 1.0\n",
      "  Success Rate Std: 0.0\n",
      "  Avg Reward: 0.9353125 (Std: 0.036670513451099396)\n",
      "  Avg Episode Length: 4.8 (Std: 2.9495761394500732)\n",
      "  Avg Num. of Invalid Actions: 0.2\n",
      "\n",
      "Results for Three-Distractor-NonReasoning_1 on BabyAI-Pickup-v0 (reasoning=False):\n",
      "  Success Rate: 1.0\n",
      "  Success Rate Std: 0.0\n",
      "  Avg Reward: 0.8903125 (Std: 0.05832124501466751)\n",
      "  Avg Episode Length: 7.8 (Std: 4.1472883224487305)\n",
      "  Avg Num. of Invalid Actions: 0.0\n",
      "\n",
      "Results for Three-Distractor-NonReasoning_1 on BabyAI-GoToTest-v0 (reasoning=False):\n",
      "  Success Rate: 1.0\n",
      "  Success Rate Std: 0.0\n",
      "  Avg Reward: 0.9550000000000001 (Std: 0.025155777111649513)\n",
      "  Avg Episode Length: 3.2 (Std: 1.7888543605804443)\n",
      "  Avg Num. of Invalid Actions: 0.0\n",
      "\n",
      "Results for Three-Distractor-NonReasoning_1 on BabyAI-PickupTest-v0 (reasoning=False):\n",
      "  Success Rate: 1.0\n",
      "  Success Rate Std: 0.0\n",
      "  Avg Reward: 0.9099999999999999 (Std: 0.06413485109806061)\n",
      "  Avg Episode Length: 6.4 (Std: 4.560701847076416)\n",
      "  Avg Num. of Invalid Actions: 0.0\n",
      "\n",
      "Results for Three-Distractor-NonReasoning_2 on BabyAI-GoTo-v0 (reasoning=False):\n",
      "  Success Rate: 1.0\n",
      "  Success Rate Std: 0.0\n",
      "  Avg Reward: 0.9043749999999999 (Std: 0.054825711995363235)\n",
      "  Avg Episode Length: 6.8 (Std: 3.8987176418304443)\n",
      "  Avg Num. of Invalid Actions: 0.0\n",
      "\n",
      "Results for Three-Distractor-NonReasoning_2 on BabyAI-Pickup-v0 (reasoning=False):\n",
      "  Success Rate: 1.0\n",
      "  Success Rate Std: 0.0\n",
      "  Avg Reward: 0.8975446428571429 (Std: 0.0442572645843029)\n",
      "  Avg Episode Length: 7.285714285714286 (Std: 3.1471831798553467)\n",
      "  Avg Num. of Invalid Actions: 0.0\n",
      "\n",
      "Results for Three-Distractor-NonReasoning_2 on BabyAI-GoToTest-v0 (reasoning=False):\n",
      "  Success Rate: 1.0\n",
      "  Success Rate Std: 0.0\n",
      "  Avg Reward: 0.9128125 (Std: 0.059162870049476624)\n",
      "  Avg Episode Length: 6.2 (Std: 4.207136631011963)\n",
      "  Avg Num. of Invalid Actions: 0.0\n",
      "\n",
      "Results for Three-Distractor-NonReasoning_2 on BabyAI-PickupTest-v0 (reasoning=False):\n",
      "  Success Rate: 1.0\n",
      "  Success Rate Std: 0.0\n",
      "  Avg Reward: 0.9240625 (Std: 0.021326834335923195)\n",
      "  Avg Episode Length: 5.4 (Std: 1.5165750980377197)\n",
      "  Avg Num. of Invalid Actions: 0.0\n",
      "\n",
      "Results for Three-Distractor-Reasoning_1 on BabyAI-GoTo-v0 (reasoning=True):\n",
      "  Success Rate: 1.0\n",
      "  Success Rate Std: 0.0\n",
      "  Avg Reward: 0.9531250000000001 (Std: 0.026182951405644417)\n",
      "  Avg Episode Length: 3.3333333333333335 (Std: 1.86189866065979)\n",
      "  Avg Num. of Invalid Actions: 0.0\n",
      "\n",
      "Results for Three-Distractor-Reasoning_1 on BabyAI-Pickup-v0 (reasoning=True):\n",
      "  Success Rate: 1.0\n",
      "  Success Rate Std: 0.0\n",
      "  Avg Reward: 0.9015624999999999 (Std: 0.033277951180934906)\n",
      "  Avg Episode Length: 7.0 (Std: 2.366431951522827)\n",
      "  Avg Num. of Invalid Actions: 0.0\n",
      "\n",
      "Results for Three-Distractor-Reasoning_1 on BabyAI-GoToTest-v0 (reasoning=True):\n",
      "  Success Rate: 1.0\n",
      "  Success Rate Std: 0.0\n",
      "  Avg Reward: 0.9578125 (Std: 0.026308532804250717)\n",
      "  Avg Episode Length: 3.0 (Std: 1.8708287477493286)\n",
      "  Avg Num. of Invalid Actions: 0.0\n",
      "\n",
      "Results for Three-Distractor-Reasoning_1 on BabyAI-PickupTest-v0 (reasoning=True):\n",
      "  Success Rate: 1.0\n",
      "  Success Rate Std: 0.0\n",
      "  Avg Reward: 0.94375 (Std: 0.009943684563040733)\n",
      "  Avg Episode Length: 4.0 (Std: 0.7071067690849304)\n",
      "  Avg Num. of Invalid Actions: 0.0\n",
      "\n",
      "Results for Three-Distractor-Reasoning_2 on BabyAI-GoTo-v0 (reasoning=True):\n",
      "  Success Rate: 0.2\n",
      "  Success Rate Std: 0.4472135901451111\n",
      "  Avg Reward: 0.1859375 (Std: 0.41576889157295227)\n",
      "  Avg Episode Length: 50.4 (Std: 28.085582733154297)\n",
      "  Avg Num. of Invalid Actions: 5.0\n",
      "\n",
      "Results for Three-Distractor-Reasoning_2 on BabyAI-Pickup-v0 (reasoning=True):\n",
      "  Success Rate: 0.4\n",
      "  Success Rate Std: 0.547722578048706\n",
      "  Avg Reward: 0.36625 (Std: 0.5016070604324341)\n",
      "  Avg Episode Length: 26.6 (Std: 28.289573669433594)\n",
      "  Avg Num. of Invalid Actions: 5.6\n",
      "\n",
      "Results for Three-Distractor-Reasoning_2 on BabyAI-GoToTest-v0 (reasoning=True):\n",
      "  Success Rate: 0.3333333333333333\n",
      "  Success Rate Std: 0.5163977742195129\n",
      "  Avg Reward: 0.32395833333333335 (Std: 0.5019528865814209)\n",
      "  Avg Episode Length: 49.333333333333336 (Std: 36.707855224609375)\n",
      "  Avg Num. of Invalid Actions: 6.0\n",
      "\n",
      "Results for Three-Distractor-Reasoning_2 on BabyAI-PickupTest-v0 (reasoning=True):\n",
      "  Success Rate: 0.4\n",
      "  Success Rate Std: 0.547722578048706\n",
      "  Avg Reward: 0.36625 (Std: 0.5015084743499756)\n",
      "  Avg Episode Length: 45.4 (Std: 36.20497131347656)\n",
      "  Avg Num. of Invalid Actions: 4.6\n"
     ]
    }
   ],
   "source": [
    "# Main Evaluation Loop\n",
    "for model_name, config in model_configs.items():\n",
    "    print(f\"Loading model: {model_name}\")\n",
    "    # Load model and tokenizer via the appropriate function.\n",
    "    load_fn = config[\"load_fn\"]\n",
    "    model_id = config[\"model_id\"]\n",
    "    \n",
    "    # Load the model using the appropriate function and arguments\n",
    "    if load_fn.__name__ == \"load_base_model\":\n",
    "        model, tokenizer = load_fn(model_id)\n",
    "    else:\n",
    "        revision = config.get(\"revision\")\n",
    "        model, tokenizer = load_fn(model_id, revision)\n",
    "    \n",
    "    # Update generation kwargs for this model. (Make sure you use its pad_token_id.)\n",
    "    local_generation_kwargs = {\n",
    "        \"do_sample\": True,\n",
    "        \"top_k\": 50,\n",
    "        \"top_p\": 0.9,\n",
    "        \"temperature\": 0.7,\n",
    "        \"pad_token_id\": tokenizer.pad_token_id,\n",
    "    }\n",
    "    \n",
    "    reasoning_flag = config[\"reasoning_flag\"]\n",
    "    reasoning_flags = [True, False] if reasoning_flag is None else [reasoning_flag]\n",
    "\n",
    "    # Loop over environments (seen and unseen) and reasoning flags.\n",
    "    # You can separate these groups as needed.\n",
    "    for env_group_name, env_ids in zip([\"Seen\", \"Unseen\"], [seen_env_ids, unseen_env_ids]):\n",
    "        for env_id in env_ids:\n",
    "            for reasoning in reasoning_flags:\n",
    "                print(f\"Evaluating {model_name} on {env_group_name} env: {env_id} with reasoning={reasoning}\")\n",
    "                results = evaluate_model_on_envs(\n",
    "                    env_id=env_id,\n",
    "                    reasoning_flag=reasoning,\n",
    "                    model=model,\n",
    "                    tokenizer=tokenizer,\n",
    "                    generation_kwargs=local_generation_kwargs,\n",
    "                    device=device,\n",
    "                    num_episodes=5  # Adjust as needed.\n",
    "                )\n",
    "                # Save results with a composite key.\n",
    "                evaluation_results[(model_name, env_id, reasoning)] = results\n",
    "\n",
    "# --- Reporting the results ---\n",
    "for key, result in evaluation_results.items():\n",
    "    model_name, env_id, reasoning = key\n",
    "    print(f\"\\nResults for {model_name} on {env_id} (reasoning={reasoning}):\")\n",
    "    print(f\"  Success Rate: {result['success_rate']}\")\n",
    "    print(f\"  Success Rate Std: {result['success_rate_std']}\")\n",
    "    print(f\"  Avg Reward: {result['avg_reward']} (Std: {result['std_reward']})\")\n",
    "    print(f\"  Avg Episode Length: {result['avg_episode_length']} (Std: {result['std_episode_length']})\")\n",
    "    print(f\"  Avg Num. of Invalid Actions: {result['avg_num_invalid_actions']}\")"
   ]
  },
  {
   "cell_type": "code",
   "execution_count": 24,
   "metadata": {},
   "outputs": [
    {
     "data": {
      "image/png": "[encoded data removed]",
      "text/plain": [
       "<Figure size 1200x600 with 1 Axes>"
      ]
     },
     "metadata": {},
     "output_type": "display_data"
    },
    {
     "data": {
      "image/png": "[encoded data removed]",
      "text/plain": [
       "<Figure size 1200x600 with 1 Axes>"
      ]
     },
     "metadata": {},
     "output_type": "display_data"
    }
   ],
   "source": [
    "def plot_success_rates(env_ids, model_configs_to_plot, evaluation_results, title):\n",
    "    \"\"\"\n",
    "    Plot bar chart of success rates for specified model configurations across environments.\n",
    "    \n",
    "    Args:\n",
    "        env_ids (list): List of environment IDs to plot.\n",
    "        model_configs_to_plot (list): List of tuples (model_name, reasoning) to include.\n",
    "        evaluation_results (dict): Dictionary containing evaluation metrics.\n",
    "        title (str): Title for the plot.\n",
    "    \"\"\"\n",
    "    fig, ax = plt.subplots(figsize=(12, 6))\n",
    "    n_envs = len(env_ids)\n",
    "    n_models = len(model_configs_to_plot)\n",
    "    bar_width = 0.8 / n_models  # Adjust bar width based on number of models\n",
    "    index = np.arange(n_envs)   # Positions for environment groups\n",
    "    \n",
    "    for i, (model_name, reasoning) in enumerate(model_configs_to_plot):\n",
    "        # Extract success rates for this model configuration\n",
    "        success_rates = []\n",
    "        for env in env_ids:\n",
    "            key = (model_name, env, reasoning)\n",
    "            if key in evaluation_results:\n",
    "                success_rates.append(evaluation_results[key][\"success_rate\"])\n",
    "            else:\n",
    "                success_rates.append(0)  # Default to 0 if data is missing\n",
    "        \n",
    "        # Plot bars for this model\n",
    "        label = f\"{model_name} {'Reasoning' if reasoning and model_name == 'Zero-shot' else ''}\"\n",
    "        ax.bar(index + i * bar_width, success_rates, bar_width, label=label)\n",
    "    \n",
    "    # Customize the plot\n",
    "    ax.set_xlabel(\"Environments\", fontsize=12)\n",
    "    ax.set_ylabel(\"Success Rate\", fontsize=12)\n",
    "    ax.set_title(title, fontsize=14)\n",
    "    ax.set_xticks(index + bar_width * (n_models - 1) / 2)\n",
    "    ax.set_xticklabels(env_ids, rotation=45, ha='right')\n",
    "    ax.set_ylim(0, 1)  # Success rate ranges from 0 to 1\n",
    "    ax.legend()\n",
    "    ax.grid(True, linestyle='--', alpha=0.7)\n",
    "    plt.tight_layout()\n",
    "    plt.show()\n",
    "\n",
    "# Define all environments to plot\n",
    "env_ids = seen_env_ids + unseen_env_ids\n",
    "\n",
    "# First plot: Baseline (R), Baseline (NR), Trial1 (NR), Trial1r (R)\n",
    "first_plot_models = [\n",
    "    (\"Zero-shot\", False),  # Baseline without reasoning\n",
    "    (\"Zero-shot\", True),   # Baseline with reasoning\n",
    "    (\"Three-Distractor-NonReasoning_1\", False),    # Trial1 without reasoning\n",
    "    (\"Three-Distractor-Reasoning_1\", True)     # Trial1r with reasoning\n",
    "]\n",
    "plot_success_rates(\n",
    "    env_ids=env_ids,\n",
    "    model_configs_to_plot=first_plot_models,\n",
    "    evaluation_results=evaluation_results,\n",
    "    title=\"Success Rate Comparison: Zero-shot and Three-Distractor Trial 1 Models\"\n",
    ")\n",
    "\n",
    "# Second plot: Baseline (R), Baseline (NR), Trial2 (NR), Trial2r (R)\n",
    "second_plot_models = [\n",
    "    (\"Zero-shot\", False),  # Baseline without reasoning\n",
    "    (\"Zero-shot\", True),   # Baseline with reasoning\n",
    "    (\"Three-Distractor-NonReasoning_2\", False),    # Trial2 without reasoning\n",
    "    (\"Three-Distractor-Reasoning_2\", True)     # Trial2r with reasoning\n",
    "]\n",
    "plot_success_rates(\n",
    "    env_ids=env_ids,\n",
    "    model_configs_to_plot=second_plot_models,\n",
    "    evaluation_results=evaluation_results,\n",
    "    title=\"Success Rate Comparison: Zero-shot and Three-Distractor Trial 2 Models\"\n",
    ")"
   ]
  },
  {
   "cell_type": "code",
   "execution_count": null,
   "metadata": {},
   "outputs": [],
   "source": []
  }
 ],
 "metadata": {
  "kernelspec": {
   "display_name": ".venv",
   "language": "python",
   "name": "python3"
  },
  "language_info": {
   "codemirror_mode": {
    "name": "ipython",
    "version": 3
   },
   "file_extension": ".py",
   "mimetype": "text/x-python",
   "name": "python",
   "nbconvert_exporter": "python",
   "pygments_lexer": "ipython3",
   "version": "3.10.12"
  }
 },
 "nbformat": 4,
 "nbformat_minor": 2
}
