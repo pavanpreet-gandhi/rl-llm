{
 "cells": [
  {
   "cell_type": "code",
   "execution_count": 1,
   "metadata": {},
   "outputs": [
    {
     "name": "stderr",
     "output_type": "stream",
     "text": [
      "/opt/miniconda3/envs/UCL_OE/lib/python3.10/site-packages/tqdm/auto.py:22: TqdmWarning: IProgress not found. Please update jupyter and ipywidgets. See https://ipywidgets.readthedocs.io/en/stable/user_install.html\n",
      "  from .autonotebook import tqdm as notebook_tqdm\n",
      "/opt/miniconda3/envs/UCL_OE/lib/python3.10/site-packages/torchvision/io/image.py:13: UserWarning: Failed to load image Python extension: dlopen(/opt/miniconda3/envs/UCL_OE/lib/python3.10/site-packages/torchvision/image.so, 0x0006): Symbol not found: __ZN3c1017RegisterOperatorsD1Ev\n",
      "  Referenced from: <AEABF8CF-B1F8-3741-AC36-A5760858308E> /opt/miniconda3/envs/UCL_OE/lib/python3.10/site-packages/torchvision/image.so\n",
      "  Expected in:     <E3D17B4A-4867-3D49-BC92-E04C28EE0F45> /opt/miniconda3/envs/UCL_OE/lib/python3.10/site-packages/torch/lib/libtorch_cpu.dylib\n",
      "  warn(f\"Failed to load image Python extension: {e}\")\n",
      "/opt/miniconda3/envs/UCL_OE/lib/python3.10/site-packages/transformers/loss/loss_for_object_detection.py:28: UserWarning: A NumPy version >=1.23.5 and <2.5.0 is required for this version of SciPy (detected version 1.23.1)\n",
      "  from scipy.optimize import linear_sum_assignment\n"
     ]
    }
   ],
   "source": [
    "import sys\n",
    "import gym\n",
    "import warnings\n",
    "import babyai_text\n",
    "from transformers import pipeline\n",
    "\n",
    "warnings.filterwarnings(\"ignore\")"
   ]
  },
  {
   "cell_type": "code",
   "execution_count": 25,
   "metadata": {},
   "outputs": [
    {
     "name": "stderr",
     "output_type": "stream",
     "text": [
      "Device set to use mps:0\n"
     ]
    }
   ],
   "source": [
    "generator = pipeline(\"text2text-generation\", model=\"google/flan-t5-large\")"
   ]
  },
  {
   "cell_type": "code",
   "execution_count": null,
   "metadata": {},
   "outputs": [
    {
     "data": {
      "text/plain": [
       "[{'generated_text': '2'}]"
      ]
     },
     "execution_count": 66,
     "metadata": {},
     "output_type": "execute_result"
    }
   ],
   "source": [
    "prompt = \"\"\"LLM prompt:\n",
    "Mission: go to a red box after you pick up a purple ball\n",
    "\n",
    "Observations:\n",
    "You carry a purple ball\n",
    "You see a wall 2 steps right\n",
    "You see a yellow key 3 steps left and 5 steps forward\n",
    "You see a red key 3 steps left and 1 step forward\n",
    "You see a purple ball 2 steps left and 4 steps forward\n",
    "You see a red box 2 steps left\n",
    "You see a blue ball 1 step left\n",
    "You see a grey ball 5 steps forward\n",
    "You see a red box 1 step right 5 steps forward\n",
    "\n",
    "Available actions:\n",
    "0: turn left\n",
    "1: turn right\n",
    "2: go forward\n",
    "3: pick up\n",
    "4: drop\n",
    "5: toggle\n",
    "6: done\n",
    "\n",
    "Which action get us closer to the red box?\n",
    "\"\"\"\n",
    "generator(\n",
    "    prompt,\n",
    "    max_new_tokens=50,  # limit the generation length\n",
    "    # do_sample=True,\n",
    "    # top_p=0.9,\n",
    "    truncation=True,\n",
    ")"
   ]
  },
  {
   "cell_type": "code",
   "execution_count": null,
   "metadata": {},
   "outputs": [],
   "source": []
  }
 ],
 "metadata": {
  "kernelspec": {
   "display_name": "UCL_OE",
   "language": "python",
   "name": "python3"
  },
  "language_info": {
   "codemirror_mode": {
    "name": "ipython",
    "version": 3
   },
   "file_extension": ".py",
   "mimetype": "text/x-python",
   "name": "python",
   "nbconvert_exporter": "python",
   "pygments_lexer": "ipython3",
   "version": "3.10.16"
  }
 },
 "nbformat": 4,
 "nbformat_minor": 2
}
