{
 "cells": [
  {
   "cell_type": "code",
   "execution_count": 3,
   "metadata": {},
   "outputs": [],
   "source": [
    "import warnings\n",
    "warnings.filterwarnings(\"ignore\")"
   ]
  },
  {
   "cell_type": "code",
   "execution_count": 4,
   "metadata": {},
   "outputs": [],
   "source": [
    "import sys\n",
    "import gym\n",
    "import warnings\n",
    "import babyai_text\n",
    "import ollama"
   ]
  },
  {
   "cell_type": "code",
   "execution_count": 5,
   "metadata": {},
   "outputs": [],
   "source": [
    "# Maps BabyAI actions to text:\n",
    "action_to_text = {\n",
    "    0: \"turn left\",\n",
    "    1: \"turn right\",\n",
    "    2: \"go forward\",\n",
    "    3: \"pick up\",\n",
    "    4: \"drop\",\n",
    "    5: \"toggle\",\n",
    "    6: \"done\",\n",
    "}\n",
    "text_to_action = {v: k for k, v in action_to_text.items()}"
   ]
  },
  {
   "cell_type": "code",
   "execution_count": 18,
   "metadata": {},
   "outputs": [
    {
     "name": "stdout",
     "output_type": "stream",
     "text": [
      "Invalid action, the valid actions are: turn left, turn right, go forward, pick up, drop, toggle, done.\n",
      "Please output one of the above actions and nothing else.\n"
     ]
    }
   ],
   "source": [
    "# Helper functions\n",
    "def get_instructions(goal: str):\n",
    "    return f\"\"\"\n",
    "You are an agent playing a simple navigation game. Your goal is to **{goal}**. The following are the possible actions you can take in the game, followed by a short description of each action:\n",
    "\n",
    "turn left: turn to the left,\n",
    "turn right: turn to the right,\n",
    "go forward: take one step forward,\n",
    "pick up: pick up the object below you,\n",
    "drop: drop the object that you are holding,\n",
    "toggle: manipulate the object in front of you.\n",
    "\n",
    "In a moment I will present you an observation.\n",
    "\n",
    "Tips:\n",
    "- Once the desired object you want to interact or pickup in front of you, you can use the 'toggle' action to interact with it.\n",
    "- It doesn't make sense to repeat the same action over and over if the observation doesn't change.\n",
    "\n",
    "PLAY!\"\"\"\n",
    "\n",
    "def parse_observation(obs, info) -> str:\n",
    "    \"\"\"\n",
    "    Returns a string with the textual descriptions stored in info['descriptions']\n",
    "    \"\"\"\n",
    "    out = \"\"\n",
    "    for description in info[\"descriptions\"]:\n",
    "        out += description + \"\\n\"\n",
    "    return out\n",
    "\n",
    "\n",
    "def parse_action(action: str) -> int:\n",
    "    \"\"\"\n",
    "    Returns the action ID corresponding to the given action text, or None if the action is invalid.\n",
    "    \"\"\"\n",
    "    return text_to_action.get(action, None)\n",
    "\n",
    "invalid_action_message = \"Invalid action, the valid actions are: \" + \", \".join(action_to_text.values()) + \".\\n\"\n",
    "invalid_action_message += \"Please output one of the above actions and nothing else.\"\n",
    "print(invalid_action_message)"
   ]
  },
  {
   "cell_type": "code",
   "execution_count": 20,
   "metadata": {},
   "outputs": [],
   "source": [
    "# Set-up\n",
    "env = gym.make(\"BabyAI-GoToObj-v0\")\n",
    "model = \"llama3.2\""
   ]
  },
  {
   "cell_type": "code",
   "execution_count": 60,
   "metadata": {},
   "outputs": [
    {
     "name": "stdout",
     "output_type": "stream",
     "text": [
      "\n",
      "You are an agent playing a simple navigation game. Your goal is to **go to the blue key**. The following are the possible actions you can take in the game, followed by a short description of each action:\n",
      "\n",
      "turn left: turn to the left,\n",
      "turn right: turn to the right,\n",
      "go forward: take one step forward,\n",
      "pick up: pick up the object below you,\n",
      "drop: drop the object that you are holding,\n",
      "toggle: manipulate the object in front of you.\n",
      "\n",
      "In a moment I will present you an observation.\n",
      "\n",
      "Tips:\n",
      "- Once the desired object you want to interact or pickup in front of you, you can use the 'toggle' action to interact with it.\n",
      "- It doesn't make sense to repeat the same action over and over if the observation doesn't change.\n",
      "\n",
      "PLAY!\n",
      "You see a wall 1 step forward\n",
      "You see a wall 3 steps left\n",
      "You see a blue key 2 steps right\n",
      "\n",
      "i'll start by going forward, trying to get away from the wall. \n",
      "\n",
      "go forward\n",
      "Invalid action, the valid actions are: turn left, turn right, go forward, pick up, drop, toggle, done.\n",
      "Please output one of the above actions and nothing else.\n",
      "turn right\n",
      "You see a wall 1 step left\n",
      "You see a blue key 2 steps forward\n",
      "\n",
      "go forward\n",
      "You see a wall 1 step left\n",
      "You see a blue key 1 step forward\n",
      "\n",
      "Done!\n",
      "Reward: 0.971875\n"
     ]
    }
   ],
   "source": [
    "obs, info = env.reset()\n",
    "goal = obs[\"mission\"]\n",
    "done = False\n",
    "instructions = get_instructions(goal)\n",
    "obs_text = parse_observation(obs, info)\n",
    "messages = [\n",
    "{\"role\": \"system\", \"content\": instructions},\n",
    "    {\"role\": \"user\", \"content\": obs_text},\n",
    "]\n",
    "print(instructions)\n",
    "print(obs_text)\n",
    "\n",
    "while not done:\n",
    "    \n",
    "    # get action from LLM\n",
    "    action_text = None\n",
    "    while action_text not in text_to_action:\n",
    "        if action_text is not None:\n",
    "            messages.append({\"role\": \"user\", \"content\": invalid_action_message})\n",
    "            print(invalid_action_message)\n",
    "        response = ollama.chat(model, messages)\n",
    "        action_text = response.message.content.lower().strip()\n",
    "        messages.append({\"role\": \"assistant\", \"content\": action_text})\n",
    "        print(action_text)\n",
    "    \n",
    "    # apply action\n",
    "    action = text_to_action[action_text]\n",
    "    obs, reward, done, info = env.step(action)\n",
    "    obs_text = parse_observation(obs, info)\n",
    "    messages.append({\"role\": \"user\", \"content\": obs_text})\n",
    "    print(obs_text)\n",
    "    \n",
    "    if done:\n",
    "        print(\"Done!\")\n",
    "        print(f\"Reward: {reward}\")\n",
    "        break"
   ]
  },
  {
   "cell_type": "markdown",
   "metadata": {},
   "source": [
    "## Observations\n",
    "- Small models (Like SmolLM2-135M-Instruct and DistilGPT2) are not able to follow instructions well at all. It is difficult to get them to even respond with a valid action. It is likely that they won't be able to reason effectively either.\n",
    "- A larger model llama3.2:3b is able to complete the game sometimes."
   ]
  }
 ],
 "metadata": {
  "kernelspec": {
   "display_name": "Python 3",
   "language": "python",
   "name": "python3"
  },
  "language_info": {
   "codemirror_mode": {
    "name": "ipython",
    "version": 3
   },
   "file_extension": ".py",
   "mimetype": "text/x-python",
   "name": "python",
   "nbconvert_exporter": "python",
   "pygments_lexer": "ipython3",
   "version": "3.10.16"
  }
 },
 "nbformat": 4,
 "nbformat_minor": 2
}
